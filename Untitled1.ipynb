{
 "cells": [
  {
   "cell_type": "code",
   "execution_count": 68,
   "metadata": {},
   "outputs": [],
   "source": [
    "import pandas as pd\n",
    "import numpy as np"
   ]
  },
  {
   "cell_type": "code",
   "execution_count": 69,
   "metadata": {},
   "outputs": [],
   "source": [
    "data = pd.read_csv('merged.csv')"
   ]
  },
  {
   "cell_type": "code",
   "execution_count": 70,
   "metadata": {},
   "outputs": [
    {
     "data": {
      "text/html": [
       "<div>\n",
       "<style scoped>\n",
       "    .dataframe tbody tr th:only-of-type {\n",
       "        vertical-align: middle;\n",
       "    }\n",
       "\n",
       "    .dataframe tbody tr th {\n",
       "        vertical-align: top;\n",
       "    }\n",
       "\n",
       "    .dataframe thead th {\n",
       "        text-align: right;\n",
       "    }\n",
       "</style>\n",
       "<table border=\"1\" class=\"dataframe\">\n",
       "  <thead>\n",
       "    <tr style=\"text-align: right;\">\n",
       "      <th></th>\n",
       "      <th>Unnamed: 0</th>\n",
       "      <th>Column_id</th>\n",
       "      <th>tdate_x</th>\n",
       "      <th>tmane_x</th>\n",
       "      <th>ttext_x</th>\n",
       "      <th>ttype_x</th>\n",
       "    </tr>\n",
       "  </thead>\n",
       "  <tbody>\n",
       "    <tr>\n",
       "      <td>0</td>\n",
       "      <td>0</td>\n",
       "      <td>408906692374446080</td>\n",
       "      <td>1.386326e+09</td>\n",
       "      <td>pleease_shut_up</td>\n",
       "      <td>@first_timee хоть я и школота, но поверь, у на...</td>\n",
       "      <td>1.0</td>\n",
       "    </tr>\n",
       "    <tr>\n",
       "      <td>1</td>\n",
       "      <td>1</td>\n",
       "      <td>408906692693221377</td>\n",
       "      <td>1.386326e+09</td>\n",
       "      <td>alinakirpicheva</td>\n",
       "      <td>Да, все-таки он немного похож на него. Но мой ...</td>\n",
       "      <td>1.0</td>\n",
       "    </tr>\n",
       "    <tr>\n",
       "      <td>2</td>\n",
       "      <td>2</td>\n",
       "      <td>408906695083954177</td>\n",
       "      <td>1.386326e+09</td>\n",
       "      <td>EvgeshaRe</td>\n",
       "      <td>RT @KatiaCheh: Ну ты идиотка) я испугалась за ...</td>\n",
       "      <td>1.0</td>\n",
       "    </tr>\n",
       "    <tr>\n",
       "      <td>3</td>\n",
       "      <td>3</td>\n",
       "      <td>408906695356973056</td>\n",
       "      <td>1.386326e+09</td>\n",
       "      <td>ikonnikova_21</td>\n",
       "      <td>RT @digger2912: \"Кто то в углу сидит и погибае...</td>\n",
       "      <td>1.0</td>\n",
       "    </tr>\n",
       "    <tr>\n",
       "      <td>4</td>\n",
       "      <td>4</td>\n",
       "      <td>408906761416867842</td>\n",
       "      <td>1.386326e+09</td>\n",
       "      <td>JumpyAlex</td>\n",
       "      <td>@irina_dyshkant Вот что значит страшилка :D\\nН...</td>\n",
       "      <td>1.0</td>\n",
       "    </tr>\n",
       "  </tbody>\n",
       "</table>\n",
       "</div>"
      ],
      "text/plain": [
       "   Unnamed: 0           Column_id       tdate_x          tmane_x  \\\n",
       "0           0  408906692374446080  1.386326e+09  pleease_shut_up   \n",
       "1           1  408906692693221377  1.386326e+09  alinakirpicheva   \n",
       "2           2  408906695083954177  1.386326e+09        EvgeshaRe   \n",
       "3           3  408906695356973056  1.386326e+09    ikonnikova_21   \n",
       "4           4  408906761416867842  1.386326e+09        JumpyAlex   \n",
       "\n",
       "                                             ttext_x  ttype_x  \n",
       "0  @first_timee хоть я и школота, но поверь, у на...      1.0  \n",
       "1  Да, все-таки он немного похож на него. Но мой ...      1.0  \n",
       "2  RT @KatiaCheh: Ну ты идиотка) я испугалась за ...      1.0  \n",
       "3  RT @digger2912: \"Кто то в углу сидит и погибае...      1.0  \n",
       "4  @irina_dyshkant Вот что значит страшилка :D\\nН...      1.0  "
      ]
     },
     "execution_count": 70,
     "metadata": {},
     "output_type": "execute_result"
    }
   ],
   "source": [
    "data.head()"
   ]
  },
  {
   "cell_type": "markdown",
   "metadata": {},
   "source": [
    "# Template of our dataset "
   ]
  },
  {
   "cell_type": "code",
   "execution_count": 71,
   "metadata": {},
   "outputs": [],
   "source": [
    "temp = data.drop(['Column_id','tdate_x','Unnamed: 0'], axis = 1)"
   ]
  },
  {
   "cell_type": "code",
   "execution_count": 72,
   "metadata": {},
   "outputs": [
    {
     "data": {
      "text/html": [
       "<div>\n",
       "<style scoped>\n",
       "    .dataframe tbody tr th:only-of-type {\n",
       "        vertical-align: middle;\n",
       "    }\n",
       "\n",
       "    .dataframe tbody tr th {\n",
       "        vertical-align: top;\n",
       "    }\n",
       "\n",
       "    .dataframe thead th {\n",
       "        text-align: right;\n",
       "    }\n",
       "</style>\n",
       "<table border=\"1\" class=\"dataframe\">\n",
       "  <thead>\n",
       "    <tr style=\"text-align: right;\">\n",
       "      <th></th>\n",
       "      <th>tmane_x</th>\n",
       "      <th>ttext_x</th>\n",
       "      <th>ttype_x</th>\n",
       "    </tr>\n",
       "  </thead>\n",
       "  <tbody>\n",
       "    <tr>\n",
       "      <td>0</td>\n",
       "      <td>pleease_shut_up</td>\n",
       "      <td>@first_timee хоть я и школота, но поверь, у на...</td>\n",
       "      <td>1.0</td>\n",
       "    </tr>\n",
       "    <tr>\n",
       "      <td>1</td>\n",
       "      <td>alinakirpicheva</td>\n",
       "      <td>Да, все-таки он немного похож на него. Но мой ...</td>\n",
       "      <td>1.0</td>\n",
       "    </tr>\n",
       "    <tr>\n",
       "      <td>2</td>\n",
       "      <td>EvgeshaRe</td>\n",
       "      <td>RT @KatiaCheh: Ну ты идиотка) я испугалась за ...</td>\n",
       "      <td>1.0</td>\n",
       "    </tr>\n",
       "    <tr>\n",
       "      <td>3</td>\n",
       "      <td>ikonnikova_21</td>\n",
       "      <td>RT @digger2912: \"Кто то в углу сидит и погибае...</td>\n",
       "      <td>1.0</td>\n",
       "    </tr>\n",
       "    <tr>\n",
       "      <td>4</td>\n",
       "      <td>JumpyAlex</td>\n",
       "      <td>@irina_dyshkant Вот что значит страшилка :D\\nН...</td>\n",
       "      <td>1.0</td>\n",
       "    </tr>\n",
       "  </tbody>\n",
       "</table>\n",
       "</div>"
      ],
      "text/plain": [
       "           tmane_x                                            ttext_x  ttype_x\n",
       "0  pleease_shut_up  @first_timee хоть я и школота, но поверь, у на...      1.0\n",
       "1  alinakirpicheva  Да, все-таки он немного похож на него. Но мой ...      1.0\n",
       "2        EvgeshaRe  RT @KatiaCheh: Ну ты идиотка) я испугалась за ...      1.0\n",
       "3    ikonnikova_21  RT @digger2912: \"Кто то в углу сидит и погибае...      1.0\n",
       "4        JumpyAlex  @irina_dyshkant Вот что значит страшилка :D\\nН...      1.0"
      ]
     },
     "execution_count": 72,
     "metadata": {},
     "output_type": "execute_result"
    }
   ],
   "source": [
    "temp.head()"
   ]
  },
  {
   "cell_type": "code",
   "execution_count": 73,
   "metadata": {},
   "outputs": [
    {
     "data": {
      "text/plain": [
       "(226834,)"
      ]
     },
     "execution_count": 73,
     "metadata": {},
     "output_type": "execute_result"
    }
   ],
   "source": [
    "y = temp['ttype_x']\n",
    "y.shape"
   ]
  },
  {
   "cell_type": "code",
   "execution_count": 74,
   "metadata": {},
   "outputs": [],
   "source": [
    "temp.drop('ttype_x', axis = 1, inplace = True)"
   ]
  },
  {
   "cell_type": "code",
   "execution_count": 75,
   "metadata": {},
   "outputs": [
    {
     "data": {
      "text/plain": [
       "(226834, 2)"
      ]
     },
     "execution_count": 75,
     "metadata": {},
     "output_type": "execute_result"
    }
   ],
   "source": [
    "temp.shape"
   ]
  },
  {
   "cell_type": "code",
   "execution_count": 76,
   "metadata": {},
   "outputs": [],
   "source": [
    "from sklearn.naive_bayes import GaussianNB"
   ]
  },
  {
   "cell_type": "code",
   "execution_count": 77,
   "metadata": {},
   "outputs": [],
   "source": [
    "model = GaussianNB()"
   ]
  },
  {
   "cell_type": "markdown",
   "metadata": {},
   "source": [
    "# Convert our words to vectors"
   ]
  },
  {
   "cell_type": "code",
   "execution_count": 78,
   "metadata": {},
   "outputs": [],
   "source": [
    "from sklearn.feature_extraction.text import CountVectorizer"
   ]
  },
  {
   "cell_type": "code",
   "execution_count": 79,
   "metadata": {},
   "outputs": [
    {
     "name": "stdout",
     "output_type": "stream",
     "text": [
      "294601\n"
     ]
    }
   ],
   "source": [
    "bow_transformer = CountVectorizer().fit(temp['ttext_x'])\n",
    "print(len(bow_transformer.vocabulary_))"
   ]
  },
  {
   "cell_type": "code",
   "execution_count": 80,
   "metadata": {},
   "outputs": [
    {
     "name": "stdout",
     "output_type": "stream",
     "text": [
      "  (0, 39597)\t1\n",
      "  (0, 283280)\t1\n",
      "  (0, 289059)\t1\n",
      "  (0, 206003)\t1\n",
      "  (0, 224163)\t1\n",
      "  (0, 200773)\t1\n",
      "  (0, 268884)\t1\n",
      "  (0, 161647)\t1\n",
      "  (0, 250115)\t1\n",
      "  (0, 209555)\t1\n",
      "  (0, 240005)\t1\n",
      "  (0, 233880)\t1\n",
      "  (0, 268595)\t1\n",
      "  (1, 206003)\t1\n",
      "  (1, 151906)\t1\n",
      "  (1, 143048)\t2\n",
      "  (1, 265963)\t1\n",
      "  (1, 211790)\t1\n",
      "  (1, 203632)\t1\n",
      "  (1, 232571)\t1\n",
      "  (1, 197876)\t1\n",
      "  (1, 202599)\t1\n",
      "  (1, 195286)\t1\n",
      "  (1, 190740)\t1\n",
      "  (1, 242223)\t1\n",
      "  :\t:\n",
      "  (226831, 198665)\t1\n",
      "  (226831, 289066)\t1\n",
      "  (226831, 171257)\t1\n",
      "  (226831, 148993)\t1\n",
      "  (226832, 93089)\t1\n",
      "  (226832, 202151)\t1\n",
      "  (226832, 151113)\t1\n",
      "  (226832, 208695)\t1\n",
      "  (226832, 266741)\t1\n",
      "  (226832, 10239)\t1\n",
      "  (226832, 65171)\t1\n",
      "  (226833, 268884)\t1\n",
      "  (226833, 197876)\t2\n",
      "  (226833, 204815)\t1\n",
      "  (226833, 287281)\t1\n",
      "  (226833, 192973)\t2\n",
      "  (226833, 242167)\t1\n",
      "  (226833, 137772)\t1\n",
      "  (226833, 266039)\t1\n",
      "  (226833, 291949)\t1\n",
      "  (226833, 241938)\t1\n",
      "  (226833, 243239)\t1\n",
      "  (226833, 187833)\t1\n",
      "  (226833, 236364)\t1\n",
      "  (226833, 143724)\t1\n",
      "(226834, 294601)\n"
     ]
    }
   ],
   "source": [
    "bow4=bow_transformer.fit_transform(temp['ttext_x'])\n",
    "print(bow4)\n",
    "print(bow4.shape)"
   ]
  },
  {
   "cell_type": "code",
   "execution_count": 81,
   "metadata": {},
   "outputs": [],
   "source": [
    "messages_bow = bow_transformer.fit_transform(temp['ttext_x'])"
   ]
  },
  {
   "cell_type": "code",
   "execution_count": 82,
   "metadata": {},
   "outputs": [
    {
     "name": "stdout",
     "output_type": "stream",
     "text": [
      "Shape of Sparse Matrix:  (226834, 294601)\n",
      "Amount of non-zero occurences: 2464632\n"
     ]
    }
   ],
   "source": [
    "print('Shape of Sparse Matrix: ',messages_bow.shape)\n",
    "print('Amount of non-zero occurences:',messages_bow.nnz)"
   ]
  },
  {
   "cell_type": "code",
   "execution_count": 83,
   "metadata": {},
   "outputs": [
    {
     "name": "stdout",
     "output_type": "stream",
     "text": [
      "sparsity:0\n"
     ]
    }
   ],
   "source": [
    "sparsity =(100.0 * messages_bow.nnz/(messages_bow.shape[0]*messages_bow.shape[1]))\n",
    "print('sparsity:{}'.format(round(sparsity)))"
   ]
  },
  {
   "cell_type": "markdown",
   "metadata": {},
   "source": [
    "# TF-IDF"
   ]
  },
  {
   "cell_type": "code",
   "execution_count": 84,
   "metadata": {},
   "outputs": [
    {
     "name": "stdout",
     "output_type": "stream",
     "text": [
      "  (0, 289059)\t0.3650609049319812\n",
      "  (0, 283280)\t0.19232305041027034\n",
      "  (0, 268884)\t0.11795329947058843\n",
      "  (0, 268595)\t0.24057976745747514\n",
      "  (0, 250115)\t0.21625889590172592\n",
      "  (0, 240005)\t0.4285251910493829\n",
      "  (0, 233880)\t0.30261487687877175\n",
      "  (0, 224163)\t0.30609541167288834\n",
      "  (0, 209555)\t0.30749859585121725\n",
      "  (0, 206003)\t0.12397597507692076\n",
      "  (0, 200773)\t0.16961407054801722\n",
      "  (0, 161647)\t0.14124680276249196\n",
      "  (0, 39597)\t0.4285251910493829\n",
      "  (1, 265963)\t0.28737101162890105\n",
      "  (1, 242223)\t0.2832230050367729\n",
      "  (1, 232571)\t0.3887751175724377\n",
      "  (1, 211790)\t0.2132017151566011\n",
      "  (1, 206003)\t0.1716425315496768\n",
      "  (1, 203632)\t0.3057837650671694\n",
      "  (1, 202599)\t0.2790909456885065\n",
      "  (1, 197876)\t0.1350219583122198\n",
      "  (1, 195286)\t0.24642289167392764\n",
      "  (1, 190740)\t0.36855352753007176\n",
      "  (1, 188924)\t0.2659810063453453\n",
      "  (1, 151906)\t0.1967261654946249\n",
      "  :\t:\n",
      "  (226831, 198665)\t0.33396344708577985\n",
      "  (226831, 171257)\t0.4439128801554268\n",
      "  (226831, 148993)\t0.5257732785989483\n",
      "  (226831, 142491)\t0.2929732507086822\n",
      "  (226832, 266741)\t0.4729769584454576\n",
      "  (226832, 208695)\t0.3906436276613388\n",
      "  (226832, 202151)\t0.08903181453275248\n",
      "  (226832, 151113)\t0.3439760057306174\n",
      "  (226832, 93089)\t0.11140380574195159\n",
      "  (226832, 65171)\t0.5004214020401639\n",
      "  (226832, 10239)\t0.48436743168410384\n",
      "  (226833, 291949)\t0.286876851624919\n",
      "  (226833, 287281)\t0.16588575173877157\n",
      "  (226833, 268884)\t0.10427709021527783\n",
      "  (226833, 266039)\t0.26826804507362456\n",
      "  (226833, 243239)\t0.3580628599755356\n",
      "  (226833, 242167)\t0.19895154033399284\n",
      "  (226833, 241938)\t0.30195700182137125\n",
      "  (226833, 236364)\t0.3788394237985511\n",
      "  (226833, 204815)\t0.13120640105152245\n",
      "  (226833, 197876)\t0.1724351621748206\n",
      "  (226833, 192973)\t0.20287688547510296\n",
      "  (226833, 187833)\t0.3412887989095801\n",
      "  (226833, 143724)\t0.3788394237985511\n",
      "  (226833, 137772)\t0.23821981020889027\n"
     ]
    }
   ],
   "source": [
    "from sklearn.feature_extraction.text import TfidfTransformer\n",
    "tfidf_transformer=TfidfTransformer().fit(messages_bow)\n",
    "tfidf4 = tfidf_transformer.fit_transform(bow4)\n",
    "print(tfidf4)"
   ]
  },
  {
   "cell_type": "code",
   "execution_count": 85,
   "metadata": {},
   "outputs": [
    {
     "name": "stdout",
     "output_type": "stream",
     "text": [
      "(226834, 294601)\n"
     ]
    }
   ],
   "source": [
    "messages_tfidf=tfidf_transformer.fit_transform(messages_bow)\n",
    "print(messages_tfidf.shape)"
   ]
  },
  {
   "cell_type": "markdown",
   "metadata": {},
   "source": [
    "# Train model"
   ]
  },
  {
   "cell_type": "code",
   "execution_count": 86,
   "metadata": {},
   "outputs": [],
   "source": [
    "from sklearn.naive_bayes import MultinomialNB\n",
    "model = MultinomialNB().fit(messages_tfidf,y)"
   ]
  },
  {
   "cell_type": "code",
   "execution_count": 87,
   "metadata": {},
   "outputs": [
    {
     "name": "stdout",
     "output_type": "stream",
     "text": [
      "predicted: [1. 1. 1. 1. 1. 1. 1. 1. 1. 1.]\n",
      "expected: 1.0\n"
     ]
    }
   ],
   "source": [
    "print('predicted:',model.predict(tfidf4)[:10])\n",
    "print('expected:',y[0])"
   ]
  },
  {
   "cell_type": "markdown",
   "metadata": {},
   "source": [
    "# F1 score"
   ]
  },
  {
   "cell_type": "code",
   "execution_count": 88,
   "metadata": {},
   "outputs": [],
   "source": [
    "all_predictions = model.predict(messages_tfidf)"
   ]
  },
  {
   "cell_type": "code",
   "execution_count": 89,
   "metadata": {},
   "outputs": [
    {
     "name": "stdout",
     "output_type": "stream",
     "text": [
      "              precision    recall  f1-score   support\n",
      "\n",
      "        -1.0       0.87      0.92      0.89    111923\n",
      "         1.0       0.92      0.86      0.89    114911\n",
      "\n",
      "    accuracy                           0.89    226834\n",
      "   macro avg       0.89      0.89      0.89    226834\n",
      "weighted avg       0.89      0.89      0.89    226834\n",
      "\n",
      "[[103032   8891]\n",
      " [ 15999  98912]]\n"
     ]
    }
   ],
   "source": [
    "from sklearn.metrics import classification_report,confusion_matrix\n",
    "print(classification_report(y,all_predictions))\n",
    "print(confusion_matrix(y,all_predictions))"
   ]
  },
  {
   "cell_type": "markdown",
   "metadata": {},
   "source": [
    "# Add new column \"predict\""
   ]
  },
  {
   "cell_type": "code",
   "execution_count": 91,
   "metadata": {},
   "outputs": [],
   "source": [
    "data['predict'] = model.predict(tfidf4)\n",
    "data.drop(['ttype_x'], axis = 1, inplace = True)"
   ]
  },
  {
   "cell_type": "code",
   "execution_count": 93,
   "metadata": {},
   "outputs": [
    {
     "data": {
      "text/html": [
       "<div>\n",
       "<style scoped>\n",
       "    .dataframe tbody tr th:only-of-type {\n",
       "        vertical-align: middle;\n",
       "    }\n",
       "\n",
       "    .dataframe tbody tr th {\n",
       "        vertical-align: top;\n",
       "    }\n",
       "\n",
       "    .dataframe thead th {\n",
       "        text-align: right;\n",
       "    }\n",
       "</style>\n",
       "<table border=\"1\" class=\"dataframe\">\n",
       "  <thead>\n",
       "    <tr style=\"text-align: right;\">\n",
       "      <th></th>\n",
       "      <th>Unnamed: 0</th>\n",
       "      <th>Column_id</th>\n",
       "      <th>tdate_x</th>\n",
       "      <th>tmane_x</th>\n",
       "      <th>ttext_x</th>\n",
       "      <th>predict</th>\n",
       "    </tr>\n",
       "  </thead>\n",
       "  <tbody>\n",
       "    <tr>\n",
       "      <td>0</td>\n",
       "      <td>0</td>\n",
       "      <td>408906692374446080</td>\n",
       "      <td>1.386326e+09</td>\n",
       "      <td>pleease_shut_up</td>\n",
       "      <td>@first_timee хоть я и школота, но поверь, у на...</td>\n",
       "      <td>1.0</td>\n",
       "    </tr>\n",
       "    <tr>\n",
       "      <td>1</td>\n",
       "      <td>1</td>\n",
       "      <td>408906692693221377</td>\n",
       "      <td>1.386326e+09</td>\n",
       "      <td>alinakirpicheva</td>\n",
       "      <td>Да, все-таки он немного похож на него. Но мой ...</td>\n",
       "      <td>1.0</td>\n",
       "    </tr>\n",
       "    <tr>\n",
       "      <td>2</td>\n",
       "      <td>2</td>\n",
       "      <td>408906695083954177</td>\n",
       "      <td>1.386326e+09</td>\n",
       "      <td>EvgeshaRe</td>\n",
       "      <td>RT @KatiaCheh: Ну ты идиотка) я испугалась за ...</td>\n",
       "      <td>1.0</td>\n",
       "    </tr>\n",
       "    <tr>\n",
       "      <td>3</td>\n",
       "      <td>3</td>\n",
       "      <td>408906695356973056</td>\n",
       "      <td>1.386326e+09</td>\n",
       "      <td>ikonnikova_21</td>\n",
       "      <td>RT @digger2912: \"Кто то в углу сидит и погибае...</td>\n",
       "      <td>1.0</td>\n",
       "    </tr>\n",
       "    <tr>\n",
       "      <td>4</td>\n",
       "      <td>4</td>\n",
       "      <td>408906761416867842</td>\n",
       "      <td>1.386326e+09</td>\n",
       "      <td>JumpyAlex</td>\n",
       "      <td>@irina_dyshkant Вот что значит страшилка :D\\nН...</td>\n",
       "      <td>1.0</td>\n",
       "    </tr>\n",
       "  </tbody>\n",
       "</table>\n",
       "</div>"
      ],
      "text/plain": [
       "   Unnamed: 0           Column_id       tdate_x          tmane_x  \\\n",
       "0           0  408906692374446080  1.386326e+09  pleease_shut_up   \n",
       "1           1  408906692693221377  1.386326e+09  alinakirpicheva   \n",
       "2           2  408906695083954177  1.386326e+09        EvgeshaRe   \n",
       "3           3  408906695356973056  1.386326e+09    ikonnikova_21   \n",
       "4           4  408906761416867842  1.386326e+09        JumpyAlex   \n",
       "\n",
       "                                             ttext_x  predict  \n",
       "0  @first_timee хоть я и школота, но поверь, у на...      1.0  \n",
       "1  Да, все-таки он немного похож на него. Но мой ...      1.0  \n",
       "2  RT @KatiaCheh: Ну ты идиотка) я испугалась за ...      1.0  \n",
       "3  RT @digger2912: \"Кто то в углу сидит и погибае...      1.0  \n",
       "4  @irina_dyshkant Вот что значит страшилка :D\\nН...      1.0  "
      ]
     },
     "execution_count": 93,
     "metadata": {},
     "output_type": "execute_result"
    }
   ],
   "source": [
    "data.head()"
   ]
  },
  {
   "cell_type": "markdown",
   "metadata": {},
   "source": [
    "# Test with parsed news"
   ]
  },
  {
   "cell_type": "code",
   "execution_count": 95,
   "metadata": {},
   "outputs": [],
   "source": [
    "df = pd.read_csv('nur.csv', encoding='utf-8', comment='#', sep = ';')"
   ]
  },
  {
   "cell_type": "code",
   "execution_count": 96,
   "metadata": {},
   "outputs": [],
   "source": [
    "df.drop('Unnamed: 1', axis = 1, inplace = True)"
   ]
  },
  {
   "cell_type": "code",
   "execution_count": 97,
   "metadata": {},
   "outputs": [
    {
     "data": {
      "text/html": [
       "<div>\n",
       "<style scoped>\n",
       "    .dataframe tbody tr th:only-of-type {\n",
       "        vertical-align: middle;\n",
       "    }\n",
       "\n",
       "    .dataframe tbody tr th {\n",
       "        vertical-align: top;\n",
       "    }\n",
       "\n",
       "    .dataframe thead th {\n",
       "        text-align: right;\n",
       "    }\n",
       "</style>\n",
       "<table border=\"1\" class=\"dataframe\">\n",
       "  <thead>\n",
       "    <tr style=\"text-align: right;\">\n",
       "      <th></th>\n",
       "      <th>Column_id</th>\n",
       "    </tr>\n",
       "  </thead>\n",
       "  <tbody>\n",
       "    <tr>\n",
       "      <td>0</td>\n",
       "      <td>Лучше уйти на один день раньше: как Назарбаев ...</td>\n",
       "    </tr>\n",
       "    <tr>\n",
       "      <td>1</td>\n",
       "      <td>Ильясов раскрыл тайну знаменитого \"веселого\" ф...</td>\n",
       "    </tr>\n",
       "    <tr>\n",
       "      <td>2</td>\n",
       "      <td>10 креативных способов справиться с Bottle Cap...</td>\n",
       "    </tr>\n",
       "    <tr>\n",
       "      <td>3</td>\n",
       "      <td>Через 10-20 лет напомнит: Масимов о феноменаль...</td>\n",
       "    </tr>\n",
       "    <tr>\n",
       "      <td>4</td>\n",
       "      <td>«В 5 – подъем, в 6 – рабочий день»: о графике ...</td>\n",
       "    </tr>\n",
       "  </tbody>\n",
       "</table>\n",
       "</div>"
      ],
      "text/plain": [
       "                                           Column_id\n",
       "0  Лучше уйти на один день раньше: как Назарбаев ...\n",
       "1  Ильясов раскрыл тайну знаменитого \"веселого\" ф...\n",
       "2  10 креативных способов справиться с Bottle Cap...\n",
       "3  Через 10-20 лет напомнит: Масимов о феноменаль...\n",
       "4  «В 5 – подъем, в 6 – рабочий день»: о графике ..."
      ]
     },
     "execution_count": 97,
     "metadata": {},
     "output_type": "execute_result"
    }
   ],
   "source": [
    "df.head()"
   ]
  },
  {
   "cell_type": "markdown",
   "metadata": {},
   "source": [
    "# Preparing parsed data"
   ]
  },
  {
   "cell_type": "code",
   "execution_count": 98,
   "metadata": {},
   "outputs": [
    {
     "name": "stdout",
     "output_type": "stream",
     "text": [
      "294601\n"
     ]
    }
   ],
   "source": [
    "bow_transformer.transform(df['Column_id'])\n",
    "print(len(bow_transformer.vocabulary_))"
   ]
  },
  {
   "cell_type": "code",
   "execution_count": 99,
   "metadata": {},
   "outputs": [
    {
     "name": "stdout",
     "output_type": "stream",
     "text": [
      "  (0, 153976)\t1\n",
      "  (0, 175234)\t1\n",
      "  (0, 188924)\t1\n",
      "  (0, 197876)\t1\n",
      "  (0, 198935)\t1\n",
      "  (0, 210436)\t1\n",
      "  (0, 216000)\t1\n",
      "  (0, 244312)\t1\n",
      "  (0, 244940)\t1\n",
      "  (0, 251632)\t1\n",
      "  (0, 274402)\t1\n",
      "  (1, 138389)\t1\n",
      "  (1, 170140)\t1\n",
      "  (1, 194714)\t1\n",
      "  (1, 244512)\t1\n",
      "  (1, 265910)\t1\n",
      "  (1, 279938)\t1\n",
      "  (2, 682)\t1\n",
      "  (2, 25667)\t1\n",
      "  (2, 183040)\t1\n",
      "  (2, 260748)\t1\n",
      "  (2, 260798)\t1\n",
      "  (3, 682)\t1\n",
      "  (3, 2229)\t1\n",
      "  (3, 186974)\t1\n",
      "  :\t:\n",
      "  (24, 277541)\t1\n",
      "  (24, 277751)\t1\n",
      "  (25, 177630)\t1\n",
      "  (25, 294183)\t1\n",
      "  (26, 124335)\t1\n",
      "  (26, 194499)\t1\n",
      "  (26, 199735)\t1\n",
      "  (26, 202151)\t1\n",
      "  (26, 207075)\t1\n",
      "  (26, 237610)\t1\n",
      "  (26, 240272)\t1\n",
      "  (26, 279938)\t1\n",
      "  (27, 161926)\t1\n",
      "  (27, 241866)\t1\n",
      "  (27, 245942)\t1\n",
      "  (28, 197984)\t1\n",
      "  (28, 208642)\t1\n",
      "  (28, 208918)\t1\n",
      "  (28, 218253)\t1\n",
      "  (28, 237741)\t1\n",
      "  (29, 135095)\t1\n",
      "  (29, 139104)\t1\n",
      "  (29, 202151)\t1\n",
      "  (29, 231145)\t1\n",
      "  (29, 246691)\t1\n",
      "(30, 294601)\n"
     ]
    }
   ],
   "source": [
    "bow5=bow_transformer.transform(df['Column_id'])\n",
    "print(bow5)\n",
    "print(bow5.shape)"
   ]
  },
  {
   "cell_type": "code",
   "execution_count": 100,
   "metadata": {},
   "outputs": [],
   "source": [
    "new_messages_bow = bow_transformer.transform(df['Column_id'])"
   ]
  },
  {
   "cell_type": "code",
   "execution_count": 101,
   "metadata": {},
   "outputs": [
    {
     "name": "stdout",
     "output_type": "stream",
     "text": [
      "Shape of Sparse Matrix:  (30, 294601)\n",
      "Amount of non-zero occurences: 188\n"
     ]
    }
   ],
   "source": [
    "print('Shape of Sparse Matrix: ',new_messages_bow.shape)\n",
    "print('Amount of non-zero occurences:',new_messages_bow.nnz)"
   ]
  },
  {
   "cell_type": "code",
   "execution_count": 102,
   "metadata": {},
   "outputs": [
    {
     "name": "stdout",
     "output_type": "stream",
     "text": [
      "  (0, 274402)\t0.3175412957204792\n",
      "  (0, 251632)\t0.3175412957204792\n",
      "  (0, 244940)\t0.25870348056872305\n",
      "  (0, 244312)\t0.3175412957204792\n",
      "  (0, 216000)\t0.3175412957204792\n",
      "  (0, 210436)\t0.3175412957204792\n",
      "  (0, 198935)\t0.2831233802323388\n",
      "  (0, 197876)\t0.25870348056872305\n",
      "  (0, 188924)\t0.3175412957204792\n",
      "  (0, 175234)\t0.3175412957204792\n",
      "  (0, 153976)\t0.2831233802323388\n",
      "  (1, 279938)\t0.285102159748531\n",
      "  (1, 265910)\t0.4286529501838809\n",
      "  (1, 244512)\t0.4286529501838809\n",
      "  (1, 194714)\t0.4286529501838809\n",
      "  (1, 170140)\t0.4286529501838809\n",
      "  (1, 138389)\t0.4286529501838809\n",
      "  (2, 260798)\t0.45667477933951844\n",
      "  (2, 260748)\t0.45667477933951844\n",
      "  (2, 183040)\t0.45667477933951844\n",
      "  (2, 25667)\t0.45667477933951844\n",
      "  (2, 682)\t0.4071763544961918\n",
      "  (3, 286155)\t0.4154075476819185\n",
      "  (3, 217828)\t0.4154075476819185\n",
      "  (3, 200216)\t0.4154075476819185\n",
      "  :\t:\n",
      "  (24, 126232)\t0.4744521852882948\n",
      "  (24, 124335)\t0.31556377406262315\n",
      "  (25, 294183)\t0.7071067811865475\n",
      "  (25, 177630)\t0.7071067811865475\n",
      "  (26, 279938)\t0.25734493331446123\n",
      "  (26, 240272)\t0.3869197798340645\n",
      "  (26, 237610)\t0.3869197798340645\n",
      "  (26, 207075)\t0.3869197798340645\n",
      "  (26, 202151)\t0.344982014691413\n",
      "  (26, 199735)\t0.3869197798340645\n",
      "  (26, 194499)\t0.3869197798340645\n",
      "  (26, 124335)\t0.25734493331446123\n",
      "  (27, 245942)\t0.5773502691896257\n",
      "  (27, 241866)\t0.5773502691896257\n",
      "  (27, 161926)\t0.5773502691896257\n",
      "  (28, 237741)\t0.4472135954999579\n",
      "  (28, 218253)\t0.4472135954999579\n",
      "  (28, 208918)\t0.4472135954999579\n",
      "  (28, 208642)\t0.4472135954999579\n",
      "  (28, 197984)\t0.4472135954999579\n",
      "  (29, 246691)\t0.46676302208846976\n",
      "  (29, 231145)\t0.41617114486261303\n",
      "  (29, 202151)\t0.41617114486261303\n",
      "  (29, 139104)\t0.46676302208846976\n",
      "  (29, 135095)\t0.46676302208846976\n"
     ]
    }
   ],
   "source": [
    "tfidf_transformer.fit(new_messages_bow)\n",
    "tfidf5 = tfidf_transformer.transform(bow5)\n",
    "print(tfidf5)"
   ]
  },
  {
   "cell_type": "code",
   "execution_count": 103,
   "metadata": {},
   "outputs": [
    {
     "name": "stdout",
     "output_type": "stream",
     "text": [
      "(30, 294601)\n"
     ]
    }
   ],
   "source": [
    "new_messages_tfidf=tfidf_transformer.transform(new_messages_bow)\n",
    "print(new_messages_tfidf.shape)"
   ]
  },
  {
   "cell_type": "code",
   "execution_count": 104,
   "metadata": {},
   "outputs": [],
   "source": [
    "df['predicted'] = model.predict(tfidf5)"
   ]
  },
  {
   "cell_type": "code",
   "execution_count": 116,
   "metadata": {},
   "outputs": [
    {
     "data": {
      "text/html": [
       "<div>\n",
       "<style scoped>\n",
       "    .dataframe tbody tr th:only-of-type {\n",
       "        vertical-align: middle;\n",
       "    }\n",
       "\n",
       "    .dataframe tbody tr th {\n",
       "        vertical-align: top;\n",
       "    }\n",
       "\n",
       "    .dataframe thead th {\n",
       "        text-align: right;\n",
       "    }\n",
       "</style>\n",
       "<table border=\"1\" class=\"dataframe\">\n",
       "  <thead>\n",
       "    <tr style=\"text-align: right;\">\n",
       "      <th></th>\n",
       "      <th>Column_id</th>\n",
       "      <th>predicted</th>\n",
       "    </tr>\n",
       "  </thead>\n",
       "  <tbody>\n",
       "    <tr>\n",
       "      <td>0</td>\n",
       "      <td>Лучше уйти на один день раньше: как Назарбаев ...</td>\n",
       "      <td>1.0</td>\n",
       "    </tr>\n",
       "    <tr>\n",
       "      <td>1</td>\n",
       "      <td>Ильясов раскрыл тайну знаменитого \"веселого\" ф...</td>\n",
       "      <td>1.0</td>\n",
       "    </tr>\n",
       "    <tr>\n",
       "      <td>2</td>\n",
       "      <td>10 креативных способов справиться с Bottle Cap...</td>\n",
       "      <td>-1.0</td>\n",
       "    </tr>\n",
       "    <tr>\n",
       "      <td>3</td>\n",
       "      <td>Через 10-20 лет напомнит: Масимов о феноменаль...</td>\n",
       "      <td>-1.0</td>\n",
       "    </tr>\n",
       "    <tr>\n",
       "      <td>4</td>\n",
       "      <td>«В 5 – подъем, в 6 – рабочий день»: о графике ...</td>\n",
       "      <td>-1.0</td>\n",
       "    </tr>\n",
       "  </tbody>\n",
       "</table>\n",
       "</div>"
      ],
      "text/plain": [
       "                                           Column_id  predicted\n",
       "0  Лучше уйти на один день раньше: как Назарбаев ...        1.0\n",
       "1  Ильясов раскрыл тайну знаменитого \"веселого\" ф...        1.0\n",
       "2  10 креативных способов справиться с Bottle Cap...       -1.0\n",
       "3  Через 10-20 лет напомнит: Масимов о феноменаль...       -1.0\n",
       "4  «В 5 – подъем, в 6 – рабочий день»: о графике ...       -1.0"
      ]
     },
     "execution_count": 116,
     "metadata": {},
     "output_type": "execute_result"
    }
   ],
   "source": [
    "df.head()"
   ]
  },
  {
   "cell_type": "code",
   "execution_count": 117,
   "metadata": {},
   "outputs": [],
   "source": [
    "export_csv = df.to_csv (r'export_dataframe.csv', index = None, header=True) #Don't forget to add '.csv' at the end of the path\n"
   ]
  }
 ],
 "metadata": {
  "kernelspec": {
   "display_name": "Python 3",
   "language": "python",
   "name": "python3"
  },
  "language_info": {
   "codemirror_mode": {
    "name": "ipython",
    "version": 3
   },
   "file_extension": ".py",
   "mimetype": "text/x-python",
   "name": "python",
   "nbconvert_exporter": "python",
   "pygments_lexer": "ipython3",
   "version": "3.6.8"
  }
 },
 "nbformat": 4,
 "nbformat_minor": 2
}
