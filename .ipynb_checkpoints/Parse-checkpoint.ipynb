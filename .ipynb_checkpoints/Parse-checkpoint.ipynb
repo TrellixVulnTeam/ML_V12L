{
 "cells": [
  {
   "cell_type": "code",
   "execution_count": 1,
   "metadata": {},
   "outputs": [],
   "source": [
    "from bs4 import BeautifulSoup\n",
    "\n",
    "import requests\n",
    "import csv\n",
    "import matplotlib.pyplot as plt\n",
    "import numpy as np\n",
    "import pandas as pd\n",
    "from sklearn.manifold import TSNE\n",
    "import seaborn as sns"
   ]
  },
  {
   "cell_type": "code",
   "execution_count": null,
   "metadata": {},
   "outputs": [],
   "source": [
    "f = csv.writer(open('krishaAstana.csv', 'w'))\n",
    "f.writerow(['District','Size','Price'])\n",
    "pages=[]\n",
    "n=0;\n",
    "for i in range(1,1700):\n",
    "    #2000\n",
    "    url = 'https://krisha.kz/prodazha/kvartiry/astana/?page=' + str(i)\n",
    "    pages.append(url)\n",
    "    \n",
    "for item in pages:\n",
    "    request  = requests.get(item)\n",
    "    soup = BeautifulSoup(request.text, 'html.parser')\n",
    "    main = soup.find(class_='a-list a-search-list a-list-with-favs')\n",
    "    \n",
    "    prices = main.find_all(class_ ='a-card__price')\n",
    "    locations = main.find_all(class_ ='a-card__wrapper-subtitle')\n",
    "    roomshot = main.find_all(class_ ='a-card__title tm-click-checked-hot-adv')\n",
    "    rooms = main.find_all(class_ ='a-card__title')\n",
    "    roomsArr=[]\n",
    "    pricesArr=[]\n",
    "    locationsArr=[]\n",
    "    pages=[]\n",
    "    for item in prices:\n",
    "        pricesArr.append(item.text)\n",
    "    for item in locations:\n",
    "        locationsArr.append(item.text)\n",
    "    for item in roomshot:\n",
    "        roomsArr.append(item.text)\n",
    "    for item in rooms:\n",
    "        roomsArr.append(item.text)\n",
    "    \n",
    "    for i in range(len(locationsArr)):\n",
    "        rooms=roomsArr[i].replace (\" \", \"\").replace (\"\\n\", \"\").split(\",\")\n",
    "        location=locationsArr[i].replace (\" \", \"\").replace (\"\\n\", \"\").split(\",\")\n",
    "        prices=pricesArr[i].replace (\" \", \"\").replace (\"\\n\", \"\").replace (\"от\", \"\")\n",
    "        prices = prices[:-1]\n",
    "        \n",
    "        if(len(rooms)==3 and str(location[0][len(location[0])-1])==\"н\" and len(prices)==11):\n",
    "            prices=int(prices[0:2]+prices[3:6]+prices[7:11])\n",
    "            f.writerow([location[0].replace (\"р-н\", \"\").replace (\"р - н\", \"\"), int(float(rooms[1].split(\"м\")[0])),prices])\n",
    "        \n",
    "        "
   ]
  }
 ],
 "metadata": {
  "kernelspec": {
   "display_name": "Python 3",
   "language": "python",
   "name": "python3"
  },
  "language_info": {
   "codemirror_mode": {
    "name": "ipython",
    "version": 3
   },
   "file_extension": ".py",
   "mimetype": "text/x-python",
   "name": "python",
   "nbconvert_exporter": "python",
   "pygments_lexer": "ipython3",
   "version": "3.6.8"
  }
 },
 "nbformat": 4,
 "nbformat_minor": 2
}
