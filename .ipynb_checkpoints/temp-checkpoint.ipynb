{
 "cells": [
  {
   "cell_type": "code",
   "execution_count": 38,
   "metadata": {},
   "outputs": [],
   "source": [
    "import pandas as pd\n",
    "import numpy as np"
   ]
  },
  {
   "cell_type": "code",
   "execution_count": 39,
   "metadata": {},
   "outputs": [],
   "source": [
    "data = pd.read_csv('merged.csv')"
   ]
  },
  {
   "cell_type": "code",
   "execution_count": 40,
   "metadata": {},
   "outputs": [
    {
     "data": {
      "text/html": [
       "<div>\n",
       "<style scoped>\n",
       "    .dataframe tbody tr th:only-of-type {\n",
       "        vertical-align: middle;\n",
       "    }\n",
       "\n",
       "    .dataframe tbody tr th {\n",
       "        vertical-align: top;\n",
       "    }\n",
       "\n",
       "    .dataframe thead th {\n",
       "        text-align: right;\n",
       "    }\n",
       "</style>\n",
       "<table border=\"1\" class=\"dataframe\">\n",
       "  <thead>\n",
       "    <tr style=\"text-align: right;\">\n",
       "      <th></th>\n",
       "      <th>Unnamed: 0</th>\n",
       "      <th>Column_id</th>\n",
       "      <th>tdate_x</th>\n",
       "      <th>tmane_x</th>\n",
       "      <th>ttext_x</th>\n",
       "      <th>ttype_x</th>\n",
       "    </tr>\n",
       "  </thead>\n",
       "  <tbody>\n",
       "    <tr>\n",
       "      <td>0</td>\n",
       "      <td>0</td>\n",
       "      <td>408906692374446080</td>\n",
       "      <td>1.386326e+09</td>\n",
       "      <td>pleease_shut_up</td>\n",
       "      <td>@first_timee хоть я и школота, но поверь, у на...</td>\n",
       "      <td>1.0</td>\n",
       "    </tr>\n",
       "    <tr>\n",
       "      <td>1</td>\n",
       "      <td>1</td>\n",
       "      <td>408906692693221377</td>\n",
       "      <td>1.386326e+09</td>\n",
       "      <td>alinakirpicheva</td>\n",
       "      <td>Да, все-таки он немного похож на него. Но мой ...</td>\n",
       "      <td>1.0</td>\n",
       "    </tr>\n",
       "    <tr>\n",
       "      <td>2</td>\n",
       "      <td>2</td>\n",
       "      <td>408906695083954177</td>\n",
       "      <td>1.386326e+09</td>\n",
       "      <td>EvgeshaRe</td>\n",
       "      <td>RT @KatiaCheh: Ну ты идиотка) я испугалась за ...</td>\n",
       "      <td>1.0</td>\n",
       "    </tr>\n",
       "    <tr>\n",
       "      <td>3</td>\n",
       "      <td>3</td>\n",
       "      <td>408906695356973056</td>\n",
       "      <td>1.386326e+09</td>\n",
       "      <td>ikonnikova_21</td>\n",
       "      <td>RT @digger2912: \"Кто то в углу сидит и погибае...</td>\n",
       "      <td>1.0</td>\n",
       "    </tr>\n",
       "    <tr>\n",
       "      <td>4</td>\n",
       "      <td>4</td>\n",
       "      <td>408906761416867842</td>\n",
       "      <td>1.386326e+09</td>\n",
       "      <td>JumpyAlex</td>\n",
       "      <td>@irina_dyshkant Вот что значит страшилка :D\\nН...</td>\n",
       "      <td>1.0</td>\n",
       "    </tr>\n",
       "  </tbody>\n",
       "</table>\n",
       "</div>"
      ],
      "text/plain": [
       "   Unnamed: 0           Column_id       tdate_x          tmane_x  \\\n",
       "0           0  408906692374446080  1.386326e+09  pleease_shut_up   \n",
       "1           1  408906692693221377  1.386326e+09  alinakirpicheva   \n",
       "2           2  408906695083954177  1.386326e+09        EvgeshaRe   \n",
       "3           3  408906695356973056  1.386326e+09    ikonnikova_21   \n",
       "4           4  408906761416867842  1.386326e+09        JumpyAlex   \n",
       "\n",
       "                                             ttext_x  ttype_x  \n",
       "0  @first_timee хоть я и школота, но поверь, у на...      1.0  \n",
       "1  Да, все-таки он немного похож на него. Но мой ...      1.0  \n",
       "2  RT @KatiaCheh: Ну ты идиотка) я испугалась за ...      1.0  \n",
       "3  RT @digger2912: \"Кто то в углу сидит и погибае...      1.0  \n",
       "4  @irina_dyshkant Вот что значит страшилка :D\\nН...      1.0  "
      ]
     },
     "execution_count": 40,
     "metadata": {},
     "output_type": "execute_result"
    }
   ],
   "source": [
    "data.head()"
   ]
  },
  {
   "cell_type": "markdown",
   "metadata": {},
   "source": [
    "# Template of our dataset "
   ]
  },
  {
   "cell_type": "code",
   "execution_count": 41,
   "metadata": {},
   "outputs": [],
   "source": [
    "temp = data.drop(['Column_id','tdate_x','Unnamed: 0'], axis = 1)"
   ]
  },
  {
   "cell_type": "code",
   "execution_count": 42,
   "metadata": {},
   "outputs": [
    {
     "data": {
      "text/html": [
       "<div>\n",
       "<style scoped>\n",
       "    .dataframe tbody tr th:only-of-type {\n",
       "        vertical-align: middle;\n",
       "    }\n",
       "\n",
       "    .dataframe tbody tr th {\n",
       "        vertical-align: top;\n",
       "    }\n",
       "\n",
       "    .dataframe thead th {\n",
       "        text-align: right;\n",
       "    }\n",
       "</style>\n",
       "<table border=\"1\" class=\"dataframe\">\n",
       "  <thead>\n",
       "    <tr style=\"text-align: right;\">\n",
       "      <th></th>\n",
       "      <th>tmane_x</th>\n",
       "      <th>ttext_x</th>\n",
       "      <th>ttype_x</th>\n",
       "    </tr>\n",
       "  </thead>\n",
       "  <tbody>\n",
       "    <tr>\n",
       "      <td>0</td>\n",
       "      <td>pleease_shut_up</td>\n",
       "      <td>@first_timee хоть я и школота, но поверь, у на...</td>\n",
       "      <td>1.0</td>\n",
       "    </tr>\n",
       "    <tr>\n",
       "      <td>1</td>\n",
       "      <td>alinakirpicheva</td>\n",
       "      <td>Да, все-таки он немного похож на него. Но мой ...</td>\n",
       "      <td>1.0</td>\n",
       "    </tr>\n",
       "    <tr>\n",
       "      <td>2</td>\n",
       "      <td>EvgeshaRe</td>\n",
       "      <td>RT @KatiaCheh: Ну ты идиотка) я испугалась за ...</td>\n",
       "      <td>1.0</td>\n",
       "    </tr>\n",
       "    <tr>\n",
       "      <td>3</td>\n",
       "      <td>ikonnikova_21</td>\n",
       "      <td>RT @digger2912: \"Кто то в углу сидит и погибае...</td>\n",
       "      <td>1.0</td>\n",
       "    </tr>\n",
       "    <tr>\n",
       "      <td>4</td>\n",
       "      <td>JumpyAlex</td>\n",
       "      <td>@irina_dyshkant Вот что значит страшилка :D\\nН...</td>\n",
       "      <td>1.0</td>\n",
       "    </tr>\n",
       "  </tbody>\n",
       "</table>\n",
       "</div>"
      ],
      "text/plain": [
       "           tmane_x                                            ttext_x  ttype_x\n",
       "0  pleease_shut_up  @first_timee хоть я и школота, но поверь, у на...      1.0\n",
       "1  alinakirpicheva  Да, все-таки он немного похож на него. Но мой ...      1.0\n",
       "2        EvgeshaRe  RT @KatiaCheh: Ну ты идиотка) я испугалась за ...      1.0\n",
       "3    ikonnikova_21  RT @digger2912: \"Кто то в углу сидит и погибае...      1.0\n",
       "4        JumpyAlex  @irina_dyshkant Вот что значит страшилка :D\\nН...      1.0"
      ]
     },
     "execution_count": 42,
     "metadata": {},
     "output_type": "execute_result"
    }
   ],
   "source": [
    "temp.head()"
   ]
  },
  {
   "cell_type": "code",
   "execution_count": 43,
   "metadata": {},
   "outputs": [
    {
     "data": {
      "text/plain": [
       "(226834,)"
      ]
     },
     "execution_count": 43,
     "metadata": {},
     "output_type": "execute_result"
    }
   ],
   "source": [
    "y = temp['ttype_x']\n",
    "y.shape"
   ]
  },
  {
   "cell_type": "code",
   "execution_count": 44,
   "metadata": {},
   "outputs": [],
   "source": [
    "temp.drop('ttype_x', axis = 1, inplace = True)"
   ]
  },
  {
   "cell_type": "code",
   "execution_count": 45,
   "metadata": {},
   "outputs": [
    {
     "data": {
      "text/plain": [
       "(226834, 2)"
      ]
     },
     "execution_count": 45,
     "metadata": {},
     "output_type": "execute_result"
    }
   ],
   "source": [
    "temp.shape"
   ]
  },
  {
   "cell_type": "code",
   "execution_count": 46,
   "metadata": {},
   "outputs": [],
   "source": [
    "from sklearn.naive_bayes import GaussianNB"
   ]
  },
  {
   "cell_type": "code",
   "execution_count": 47,
   "metadata": {},
   "outputs": [],
   "source": [
    "model = GaussianNB()"
   ]
  },
  {
   "cell_type": "markdown",
   "metadata": {},
   "source": [
    "# Convert our words to vectors"
   ]
  },
  {
   "cell_type": "code",
   "execution_count": 48,
   "metadata": {},
   "outputs": [],
   "source": [
    "from sklearn.feature_extraction.text import CountVectorizer\n",
    "vect = CountVectorizer()"
   ]
  },
  {
   "cell_type": "code",
   "execution_count": 49,
   "metadata": {},
   "outputs": [],
   "source": [
    "messages_bow = vect.fit_transform(temp['ttext_x'])"
   ]
  },
  {
   "cell_type": "markdown",
   "metadata": {},
   "source": [
    "# TF-IDF"
   ]
  },
  {
   "cell_type": "code",
   "execution_count": 50,
   "metadata": {},
   "outputs": [],
   "source": [
    "from sklearn.feature_extraction.text import TfidfTransformer\n",
    "\n",
    "tfidf = TfidfTransformer().fit_transform(messages_bow)\n",
    "\n",
    "\n"
   ]
  },
  {
   "cell_type": "markdown",
   "metadata": {},
   "source": [
    "# Train model"
   ]
  },
  {
   "cell_type": "code",
   "execution_count": 51,
   "metadata": {},
   "outputs": [],
   "source": [
    "from sklearn.naive_bayes import MultinomialNB\n",
    "model = MultinomialNB().fit(messages_tfidf,y)"
   ]
  },
  {
   "cell_type": "code",
   "execution_count": null,
   "metadata": {},
   "outputs": [],
   "source": []
  },
  {
   "cell_type": "markdown",
   "metadata": {},
   "source": [
    "# Test with parsed news"
   ]
  },
  {
   "cell_type": "code",
   "execution_count": 52,
   "metadata": {},
   "outputs": [],
   "source": [
    "df = pd.read_csv('nur.csv', encoding='utf-8', comment='#', sep = ';')"
   ]
  },
  {
   "cell_type": "code",
   "execution_count": 53,
   "metadata": {},
   "outputs": [],
   "source": [
    "df.drop('Unnamed: 1', axis = 1, inplace = True)"
   ]
  },
  {
   "cell_type": "code",
   "execution_count": 54,
   "metadata": {},
   "outputs": [
    {
     "data": {
      "text/html": [
       "<div>\n",
       "<style scoped>\n",
       "    .dataframe tbody tr th:only-of-type {\n",
       "        vertical-align: middle;\n",
       "    }\n",
       "\n",
       "    .dataframe tbody tr th {\n",
       "        vertical-align: top;\n",
       "    }\n",
       "\n",
       "    .dataframe thead th {\n",
       "        text-align: right;\n",
       "    }\n",
       "</style>\n",
       "<table border=\"1\" class=\"dataframe\">\n",
       "  <thead>\n",
       "    <tr style=\"text-align: right;\">\n",
       "      <th></th>\n",
       "      <th>Column_id</th>\n",
       "    </tr>\n",
       "  </thead>\n",
       "  <tbody>\n",
       "    <tr>\n",
       "      <td>0</td>\n",
       "      <td>Лучше уйти на один день раньше: как Назарбаев ...</td>\n",
       "    </tr>\n",
       "    <tr>\n",
       "      <td>1</td>\n",
       "      <td>Ильясов раскрыл тайну знаменитого \"веселого\" ф...</td>\n",
       "    </tr>\n",
       "    <tr>\n",
       "      <td>2</td>\n",
       "      <td>10 креативных способов справиться с Bottle Cap...</td>\n",
       "    </tr>\n",
       "    <tr>\n",
       "      <td>3</td>\n",
       "      <td>Через 10-20 лет напомнит: Масимов о феноменаль...</td>\n",
       "    </tr>\n",
       "    <tr>\n",
       "      <td>4</td>\n",
       "      <td>«В 5 – подъем, в 6 – рабочий день»: о графике ...</td>\n",
       "    </tr>\n",
       "  </tbody>\n",
       "</table>\n",
       "</div>"
      ],
      "text/plain": [
       "                                           Column_id\n",
       "0  Лучше уйти на один день раньше: как Назарбаев ...\n",
       "1  Ильясов раскрыл тайну знаменитого \"веселого\" ф...\n",
       "2  10 креативных способов справиться с Bottle Cap...\n",
       "3  Через 10-20 лет напомнит: Масимов о феноменаль...\n",
       "4  «В 5 – подъем, в 6 – рабочий день»: о графике ..."
      ]
     },
     "execution_count": 54,
     "metadata": {},
     "output_type": "execute_result"
    }
   ],
   "source": [
    "df.head()"
   ]
  },
  {
   "cell_type": "markdown",
   "metadata": {},
   "source": [
    "# Preparing parsed data"
   ]
  },
  {
   "cell_type": "code",
   "execution_count": 55,
   "metadata": {},
   "outputs": [
    {
     "name": "stdout",
     "output_type": "stream",
     "text": [
      "294601\n"
     ]
    }
   ],
   "source": [
    "bow_transformer.transform(df['Column_id'])\n",
    "print(len(bow_transformer.vocabulary_))"
   ]
  },
  {
   "cell_type": "code",
   "execution_count": 56,
   "metadata": {},
   "outputs": [
    {
     "name": "stdout",
     "output_type": "stream",
     "text": [
      "  (0, 153976)\t1\n",
      "  (0, 175234)\t1\n",
      "  (0, 188924)\t1\n",
      "  (0, 197876)\t1\n",
      "  (0, 198935)\t1\n",
      "  (0, 210436)\t1\n",
      "  (0, 216000)\t1\n",
      "  (0, 244312)\t1\n",
      "  (0, 244940)\t1\n",
      "  (0, 251632)\t1\n",
      "  (0, 274402)\t1\n",
      "  (1, 138389)\t1\n",
      "  (1, 170140)\t1\n",
      "  (1, 194714)\t1\n",
      "  (1, 244512)\t1\n",
      "  (1, 265910)\t1\n",
      "  (1, 279938)\t1\n",
      "  (2, 682)\t1\n",
      "  (2, 25667)\t1\n",
      "  (2, 183040)\t1\n",
      "  (2, 260748)\t1\n",
      "  (2, 260798)\t1\n",
      "  (3, 682)\t1\n",
      "  (3, 2229)\t1\n",
      "  (3, 186974)\t1\n",
      "  :\t:\n",
      "  (26, 199735)\t1\n",
      "  (26, 202151)\t1\n",
      "  (26, 207075)\t1\n",
      "  (26, 237610)\t1\n",
      "  (26, 240272)\t1\n",
      "  (26, 279938)\t1\n",
      "  (27, 161926)\t1\n",
      "  (27, 241866)\t1\n",
      "  (27, 245942)\t1\n",
      "  (28, 197984)\t1\n",
      "  (28, 208642)\t1\n",
      "  (28, 208918)\t1\n",
      "  (28, 218253)\t1\n",
      "  (28, 237741)\t1\n",
      "  (29, 135095)\t1\n",
      "  (29, 139104)\t1\n",
      "  (29, 202151)\t1\n",
      "  (29, 231145)\t1\n",
      "  (29, 246691)\t1\n",
      "  (30, 157213)\t1\n",
      "  (30, 251892)\t1\n",
      "  (31, 148718)\t1\n",
      "  (31, 169893)\t1\n",
      "  (31, 190555)\t1\n",
      "  (31, 217054)\t1\n",
      "(32, 294601)\n"
     ]
    }
   ],
   "source": [
    "bow5=bow_transformer.transform(df['Column_id'])\n",
    "print(bow5)\n",
    "print(bow5.shape)"
   ]
  },
  {
   "cell_type": "code",
   "execution_count": 57,
   "metadata": {},
   "outputs": [],
   "source": [
    "new_messages_bow = bow_transformer.transform(df['Column_id'])"
   ]
  },
  {
   "cell_type": "code",
   "execution_count": 58,
   "metadata": {},
   "outputs": [
    {
     "name": "stdout",
     "output_type": "stream",
     "text": [
      "Shape of Sparse Matrix:  (32, 294601)\n",
      "Amount of non-zero occurences: 194\n"
     ]
    }
   ],
   "source": [
    "print('Shape of Sparse Matrix: ',new_messages_bow.shape)\n",
    "print('Amount of non-zero occurences:',new_messages_bow.nnz)"
   ]
  },
  {
   "cell_type": "code",
   "execution_count": 59,
   "metadata": {},
   "outputs": [
    {
     "name": "stdout",
     "output_type": "stream",
     "text": [
      "  (0, 274402)\t0.3172805825522982\n",
      "  (0, 251632)\t0.3172805825522982\n",
      "  (0, 244940)\t0.2594574684591436\n",
      "  (0, 244312)\t0.3172805825522982\n",
      "  (0, 216000)\t0.3172805825522982\n",
      "  (0, 210436)\t0.3172805825522982\n",
      "  (0, 198935)\t0.28345622913288177\n",
      "  (0, 197876)\t0.2594574684591436\n",
      "  (0, 188924)\t0.3172805825522982\n",
      "  (0, 175234)\t0.3172805825522982\n",
      "  (0, 153976)\t0.28345622913288177\n",
      "  (1, 279938)\t0.2872678781994018\n",
      "  (1, 265910)\t0.42836366936396775\n",
      "  (1, 244512)\t0.42836366936396775\n",
      "  (1, 194714)\t0.42836366936396775\n",
      "  (1, 170140)\t0.42836366936396775\n",
      "  (1, 138389)\t0.42836366936396775\n",
      "  (2, 260798)\t0.4565234048602731\n",
      "  (2, 260748)\t0.4565234048602731\n",
      "  (2, 183040)\t0.4565234048602731\n",
      "  (2, 25667)\t0.4565234048602731\n",
      "  (2, 682)\t0.4078547820721643\n",
      "  (3, 286155)\t0.415293603543511\n",
      "  (3, 217828)\t0.415293603543511\n",
      "  (3, 200216)\t0.415293603543511\n",
      "  :\t:\n",
      "  (26, 237610)\t0.38640278052088406\n",
      "  (26, 207075)\t0.38640278052088406\n",
      "  (26, 202151)\t0.3452095120723516\n",
      "  (26, 199735)\t0.38640278052088406\n",
      "  (26, 194499)\t0.38640278052088406\n",
      "  (26, 124335)\t0.2591282007071174\n",
      "  (27, 245942)\t0.5773502691896257\n",
      "  (27, 241866)\t0.5773502691896257\n",
      "  (27, 161926)\t0.5773502691896257\n",
      "  (28, 237741)\t0.447213595499958\n",
      "  (28, 218253)\t0.447213595499958\n",
      "  (28, 208918)\t0.447213595499958\n",
      "  (28, 208642)\t0.447213595499958\n",
      "  (28, 197984)\t0.447213595499958\n",
      "  (29, 246691)\t0.4664399378418825\n",
      "  (29, 231145)\t0.41671414252349454\n",
      "  (29, 202151)\t0.41671414252349454\n",
      "  (29, 139104)\t0.4664399378418825\n",
      "  (29, 135095)\t0.4664399378418825\n",
      "  (30, 251892)\t0.7071067811865476\n",
      "  (30, 157213)\t0.7071067811865476\n",
      "  (31, 217054)\t0.5\n",
      "  (31, 190555)\t0.5\n",
      "  (31, 169893)\t0.5\n",
      "  (31, 148718)\t0.5\n"
     ]
    }
   ],
   "source": [
    "tfidf_transformer.fit(new_messages_bow)\n",
    "tfidf5 = tfidf_transformer.transform(bow5)\n",
    "print(tfidf5)"
   ]
  },
  {
   "cell_type": "code",
   "execution_count": null,
   "metadata": {},
   "outputs": [],
   "source": []
  },
  {
   "cell_type": "code",
   "execution_count": 60,
   "metadata": {},
   "outputs": [],
   "source": [
    "df['predicted'] = model.predict(tfidf5)"
   ]
  },
  {
   "cell_type": "code",
   "execution_count": 61,
   "metadata": {},
   "outputs": [
    {
     "data": {
      "text/html": [
       "<div>\n",
       "<style scoped>\n",
       "    .dataframe tbody tr th:only-of-type {\n",
       "        vertical-align: middle;\n",
       "    }\n",
       "\n",
       "    .dataframe tbody tr th {\n",
       "        vertical-align: top;\n",
       "    }\n",
       "\n",
       "    .dataframe thead th {\n",
       "        text-align: right;\n",
       "    }\n",
       "</style>\n",
       "<table border=\"1\" class=\"dataframe\">\n",
       "  <thead>\n",
       "    <tr style=\"text-align: right;\">\n",
       "      <th></th>\n",
       "      <th>Column_id</th>\n",
       "      <th>predicted</th>\n",
       "    </tr>\n",
       "  </thead>\n",
       "  <tbody>\n",
       "    <tr>\n",
       "      <td>0</td>\n",
       "      <td>Лучше уйти на один день раньше: как Назарбаев ...</td>\n",
       "      <td>1.0</td>\n",
       "    </tr>\n",
       "    <tr>\n",
       "      <td>1</td>\n",
       "      <td>Ильясов раскрыл тайну знаменитого \"веселого\" ф...</td>\n",
       "      <td>1.0</td>\n",
       "    </tr>\n",
       "    <tr>\n",
       "      <td>2</td>\n",
       "      <td>10 креативных способов справиться с Bottle Cap...</td>\n",
       "      <td>-1.0</td>\n",
       "    </tr>\n",
       "    <tr>\n",
       "      <td>3</td>\n",
       "      <td>Через 10-20 лет напомнит: Масимов о феноменаль...</td>\n",
       "      <td>-1.0</td>\n",
       "    </tr>\n",
       "    <tr>\n",
       "      <td>4</td>\n",
       "      <td>«В 5 – подъем, в 6 – рабочий день»: о графике ...</td>\n",
       "      <td>-1.0</td>\n",
       "    </tr>\n",
       "    <tr>\n",
       "      <td>5</td>\n",
       "      <td>Вкусно и недорого: ярмарка сельхозпродукции от...</td>\n",
       "      <td>1.0</td>\n",
       "    </tr>\n",
       "    <tr>\n",
       "      <td>6</td>\n",
       "      <td>О погибшем в ДТП студенте рассказали в медунив...</td>\n",
       "      <td>1.0</td>\n",
       "    </tr>\n",
       "    <tr>\n",
       "      <td>7</td>\n",
       "      <td>Погибший после ДТП студент работал курьером в ...</td>\n",
       "      <td>1.0</td>\n",
       "    </tr>\n",
       "    <tr>\n",
       "      <td>8</td>\n",
       "      <td>Изъяты дымовые шашки и травматы: попытки незак...</td>\n",
       "      <td>-1.0</td>\n",
       "    </tr>\n",
       "    <tr>\n",
       "      <td>9</td>\n",
       "      <td>Невиданная жара на Аляске: леса горят, птицы г...</td>\n",
       "      <td>-1.0</td>\n",
       "    </tr>\n",
       "    <tr>\n",
       "      <td>10</td>\n",
       "      <td>Три села переименуют в Павлодарской области</td>\n",
       "      <td>-1.0</td>\n",
       "    </tr>\n",
       "    <tr>\n",
       "      <td>11</td>\n",
       "      <td>«Позорила семью»: брат нашел интимное видео в ...</td>\n",
       "      <td>-1.0</td>\n",
       "    </tr>\n",
       "    <tr>\n",
       "      <td>12</td>\n",
       "      <td>Сагинтаев рассказал о развитии дорожной инфрас...</td>\n",
       "      <td>1.0</td>\n",
       "    </tr>\n",
       "    <tr>\n",
       "      <td>13</td>\n",
       "      <td>Видео с огромным вараном в степи пересылают др...</td>\n",
       "      <td>1.0</td>\n",
       "    </tr>\n",
       "    <tr>\n",
       "      <td>14</td>\n",
       "      <td>Фото 16-летней Анджелины Джоли в нижнем белье ...</td>\n",
       "      <td>1.0</td>\n",
       "    </tr>\n",
       "    <tr>\n",
       "      <td>15</td>\n",
       "      <td>Токаев посмотрел бои в новом Дворце единоборст...</td>\n",
       "      <td>1.0</td>\n",
       "    </tr>\n",
       "    <tr>\n",
       "      <td>16</td>\n",
       "      <td>«Мои сверстники страдают»: школьник отдал день...</td>\n",
       "      <td>-1.0</td>\n",
       "    </tr>\n",
       "    <tr>\n",
       "      <td>17</td>\n",
       "      <td>Умный город хотят сделать из Арыси (фото)</td>\n",
       "      <td>-1.0</td>\n",
       "    </tr>\n",
       "    <tr>\n",
       "      <td>18</td>\n",
       "      <td>Плейлист Елбасы: какие песни любит и слушает Н...</td>\n",
       "      <td>1.0</td>\n",
       "    </tr>\n",
       "    <tr>\n",
       "      <td>19</td>\n",
       "      <td>Когда спишут штрафы и пени по кредитам казахст...</td>\n",
       "      <td>-1.0</td>\n",
       "    </tr>\n",
       "    <tr>\n",
       "      <td>20</td>\n",
       "      <td>Дочь Гульнары Каримовой рассказала о судьбе ми...</td>\n",
       "      <td>1.0</td>\n",
       "    </tr>\n",
       "    <tr>\n",
       "      <td>21</td>\n",
       "      <td>230 семей в Талдыкоргане получили ключи от ква...</td>\n",
       "      <td>-1.0</td>\n",
       "    </tr>\n",
       "    <tr>\n",
       "      <td>22</td>\n",
       "      <td>Путин, Пашинян, Эрдоган: кто еще звонил Назарб...</td>\n",
       "      <td>-1.0</td>\n",
       "    </tr>\n",
       "    <tr>\n",
       "      <td>23</td>\n",
       "      <td>Взрыв прогремел в воинской части в Азербайджане</td>\n",
       "      <td>-1.0</td>\n",
       "    </tr>\n",
       "    <tr>\n",
       "      <td>24</td>\n",
       "      <td>Замакима Алматы Арман Кырыкбаев ушел в учебный...</td>\n",
       "      <td>-1.0</td>\n",
       "    </tr>\n",
       "    <tr>\n",
       "      <td>25</td>\n",
       "      <td>Қалыңдығына ашуланған қызылордалық күйеу жігіт...</td>\n",
       "      <td>1.0</td>\n",
       "    </tr>\n",
       "    <tr>\n",
       "      <td>26</td>\n",
       "      <td>Нам не нужны провокаторы: мирный митинг прошел...</td>\n",
       "      <td>1.0</td>\n",
       "    </tr>\n",
       "    <tr>\n",
       "      <td>27</td>\n",
       "      <td>Женщина обворовала пятилетнего ребенка в Талды...</td>\n",
       "      <td>1.0</td>\n",
       "    </tr>\n",
       "    <tr>\n",
       "      <td>28</td>\n",
       "      <td>Программа обновления автобусного парка набирае...</td>\n",
       "      <td>1.0</td>\n",
       "    </tr>\n",
       "    <tr>\n",
       "      <td>29</td>\n",
       "      <td>Разрушенные после взрывов хозпостройки в Арыси...</td>\n",
       "      <td>-1.0</td>\n",
       "    </tr>\n",
       "    <tr>\n",
       "      <td>30</td>\n",
       "      <td>Дом сгорел</td>\n",
       "      <td>-1.0</td>\n",
       "    </tr>\n",
       "    <tr>\n",
       "      <td>31</td>\n",
       "      <td>Малика очень глупая и злая</td>\n",
       "      <td>-1.0</td>\n",
       "    </tr>\n",
       "  </tbody>\n",
       "</table>\n",
       "</div>"
      ],
      "text/plain": [
       "                                            Column_id  predicted\n",
       "0   Лучше уйти на один день раньше: как Назарбаев ...        1.0\n",
       "1   Ильясов раскрыл тайну знаменитого \"веселого\" ф...        1.0\n",
       "2   10 креативных способов справиться с Bottle Cap...       -1.0\n",
       "3   Через 10-20 лет напомнит: Масимов о феноменаль...       -1.0\n",
       "4   «В 5 – подъем, в 6 – рабочий день»: о графике ...       -1.0\n",
       "5   Вкусно и недорого: ярмарка сельхозпродукции от...        1.0\n",
       "6   О погибшем в ДТП студенте рассказали в медунив...        1.0\n",
       "7   Погибший после ДТП студент работал курьером в ...        1.0\n",
       "8   Изъяты дымовые шашки и травматы: попытки незак...       -1.0\n",
       "9   Невиданная жара на Аляске: леса горят, птицы г...       -1.0\n",
       "10        Три села переименуют в Павлодарской области       -1.0\n",
       "11  «Позорила семью»: брат нашел интимное видео в ...       -1.0\n",
       "12  Сагинтаев рассказал о развитии дорожной инфрас...        1.0\n",
       "13  Видео с огромным вараном в степи пересылают др...        1.0\n",
       "14  Фото 16-летней Анджелины Джоли в нижнем белье ...        1.0\n",
       "15  Токаев посмотрел бои в новом Дворце единоборст...        1.0\n",
       "16  «Мои сверстники страдают»: школьник отдал день...       -1.0\n",
       "17          Умный город хотят сделать из Арыси (фото)       -1.0\n",
       "18  Плейлист Елбасы: какие песни любит и слушает Н...        1.0\n",
       "19  Когда спишут штрафы и пени по кредитам казахст...       -1.0\n",
       "20  Дочь Гульнары Каримовой рассказала о судьбе ми...        1.0\n",
       "21  230 семей в Талдыкоргане получили ключи от ква...       -1.0\n",
       "22  Путин, Пашинян, Эрдоган: кто еще звонил Назарб...       -1.0\n",
       "23    Взрыв прогремел в воинской части в Азербайджане       -1.0\n",
       "24  Замакима Алматы Арман Кырыкбаев ушел в учебный...       -1.0\n",
       "25  Қалыңдығына ашуланған қызылордалық күйеу жігіт...        1.0\n",
       "26  Нам не нужны провокаторы: мирный митинг прошел...        1.0\n",
       "27  Женщина обворовала пятилетнего ребенка в Талды...        1.0\n",
       "28  Программа обновления автобусного парка набирае...        1.0\n",
       "29  Разрушенные после взрывов хозпостройки в Арыси...       -1.0\n",
       "30                                         Дом сгорел       -1.0\n",
       "31                         Малика очень глупая и злая       -1.0"
      ]
     },
     "execution_count": 61,
     "metadata": {},
     "output_type": "execute_result"
    }
   ],
   "source": [
    "df"
   ]
  },
  {
   "cell_type": "markdown",
   "metadata": {},
   "source": [
    "# Save trained model"
   ]
  },
  {
   "cell_type": "code",
   "execution_count": 62,
   "metadata": {},
   "outputs": [],
   "source": [
    "import numpy as np\n",
    "from flask import Flask, request, jsonify\n",
    "import pickle"
   ]
  },
  {
   "cell_type": "code",
   "execution_count": 63,
   "metadata": {},
   "outputs": [
    {
     "ename": "NameError",
     "evalue": "name 'spam_detect_model' is not defined",
     "output_type": "error",
     "traceback": [
      "\u001b[0;31m---------------------------------------------------------------------------\u001b[0m",
      "\u001b[0;31mNameError\u001b[0m                                 Traceback (most recent call last)",
      "\u001b[0;32m<ipython-input-63-df392c9e7131>\u001b[0m in \u001b[0;36m<module>\u001b[0;34m\u001b[0m\n\u001b[0;32m----> 1\u001b[0;31m \u001b[0mpickle\u001b[0m\u001b[0;34m.\u001b[0m\u001b[0mdump\u001b[0m\u001b[0;34m(\u001b[0m\u001b[0mspam_detect_model\u001b[0m\u001b[0;34m,\u001b[0m \u001b[0mopen\u001b[0m\u001b[0;34m(\u001b[0m\u001b[0;34m'model.pkl'\u001b[0m\u001b[0;34m,\u001b[0m\u001b[0;34m'wb'\u001b[0m\u001b[0;34m)\u001b[0m\u001b[0;34m)\u001b[0m\u001b[0;34m\u001b[0m\u001b[0;34m\u001b[0m\u001b[0m\n\u001b[0m",
      "\u001b[0;31mNameError\u001b[0m: name 'spam_detect_model' is not defined"
     ]
    }
   ],
   "source": [
    "pickle.dump(spam_detect_model, open('model.pkl','wb'))"
   ]
  },
  {
   "cell_type": "code",
   "execution_count": null,
   "metadata": {},
   "outputs": [],
   "source": [
    "app = Flask(__name__)\n",
    "model = pickle.load(open('model.pkl','rb'))"
   ]
  },
  {
   "cell_type": "code",
   "execution_count": null,
   "metadata": {},
   "outputs": [],
   "source": [
    "@app.route('/api',methods=['POST'])\n",
    "def predict():\n",
    "    data = request.get_json(force=True)\n",
    "    prediction = model.predict([[np.array(data['exp'])]])\n",
    "    output = prediction[0]\n",
    "    return jsonify(output)"
   ]
  },
  {
   "cell_type": "code",
   "execution_count": null,
   "metadata": {},
   "outputs": [],
   "source": [
    "if __name__ == '__main__':\n",
    "    app.run(port=5000, debug=True)"
   ]
  },
  {
   "cell_type": "code",
   "execution_count": null,
   "metadata": {},
   "outputs": [],
   "source": [
    "import requests\n",
    "url = 'http://localhost:5000/api'\n",
    "r = requests.post(url,json={'exp':1.8,})\n",
    "print(r.json())"
   ]
  },
  {
   "cell_type": "code",
   "execution_count": null,
   "metadata": {},
   "outputs": [],
   "source": []
  }
 ],
 "metadata": {
  "kernelspec": {
   "display_name": "Python 3",
   "language": "python",
   "name": "python3"
  },
  "language_info": {
   "codemirror_mode": {
    "name": "ipython",
    "version": 3
   },
   "file_extension": ".py",
   "mimetype": "text/x-python",
   "name": "python",
   "nbconvert_exporter": "python",
   "pygments_lexer": "ipython3",
   "version": "3.6.8"
  }
 },
 "nbformat": 4,
 "nbformat_minor": 2
}
