{
 "cells": [
  {
   "cell_type": "code",
   "execution_count": 3,
   "metadata": {},
   "outputs": [],
   "source": [
    "from bs4 import BeautifulSoup\n",
    "\n",
    "import requests\n",
    "import csv\n",
    "import matplotlib.pyplot as plt\n",
    "import numpy as np\n",
    "import pandas as pd\n",
    "from sklearn.manifold import TSNE\n",
    "import seaborn as sns"
   ]
  },
  {
   "cell_type": "code",
   "execution_count": null,
   "metadata": {},
   "outputs": [],
   "source": [
    "f = csv.writer(open('krisha.csv', 'w'))\n",
    "f.writerow(['District','Rooms','Size','Floor',\"Price\"])\n",
    "pages=[]\n",
    "n=0;\n",
    "for i in range(1,100):\n",
    "    #2000\n",
    "    url = 'https://krisha.kz/prodazha/kvartiry/almaty/?page=' + str(i)\n",
    "    pages.append(url)\n",
    "    \n",
    "for item in pages:\n",
    "    request  = requests.get(item)\n",
    "    soup = BeautifulSoup(request.text, 'html.parser')\n",
    "    main = soup.find(class_='a-list a-search-list a-list-with-favs')\n",
    "    \n",
    "    prices = main.find_all(class_ ='a-card__price')\n",
    "    locations = main.find_all(class_ ='a-card__wrapper-subtitle')\n",
    "    roomshot = main.find_all(class_ ='a-card__title tm-click-checked-hot-adv')\n",
    "    rooms = main.find_all(class_ ='a-card__title')\n",
    "    roomsArr=[]\n",
    "    pricesArr=[]\n",
    "    locationsArr=[]\n",
    "    pages=[]\n",
    "    for item in prices:\n",
    "        pricesArr.append(item.text)\n",
    "    for item in locations:\n",
    "        locationsArr.append(item.text)\n",
    "    for item in roomshot:\n",
    "        roomsArr.append(item.text)\n",
    "    for item in rooms:\n",
    "        roomsArr.append(item.text)\n",
    "    \n",
    "    for i in range(len(locationsArr)):\n",
    "        rooms=roomsArr[i].replace (\" \", \"\").replace (\"\\n\", \"\").split(\",\")\n",
    "        location=locationsArr[i].replace (\" \", \"\").replace (\"\\n\", \"\").split(\",\")\n",
    "        prices=pricesArr[i].replace (\" \", \"\").replace (\"\\n\", \"\").replace (\"от\", \"\")\n",
    "        prices = prices[:-1]\n",
    "        \n",
    "        if(len(rooms)==3 and str(location[0][len(location[0])-1])==\"н\" and len(prices)==11):\n",
    "            prices=int(prices[0:2]+prices[3:6]+prices[7:11])\n",
    "            prices=int(prices/387%1000)\n",
    "            if(len(str(prices))==3):\n",
    "                if(prices%10>0 and prices%10<5):\n",
    "                    prices=prices-prices%10+5\n",
    "                elif(prices%10>5 and prices%10<=9):\n",
    "                    prices=prices-prices%10+10\n",
    "                    \n",
    "                if(prices%100>0 and prices%100<50):\n",
    "                    prices=prices-prices%100+50\n",
    "                elif(prices%100>50 and prices%100<=90):\n",
    "                    prices=prices-prices%100+100\n",
    "                f.writerow([location[0].replace (\"р-н\", \"\").replace (\"р - н\", \"\"),int(rooms[0].replace (\"-комнатнаяквартира\", \"\")), int(float(rooms[1].split(\"м\")[0])),int(rooms[2].split(\"/\")[0].replace(\"этаж\",\"\")),])\n",
    "        \n",
    "        "
   ]
  },
  {
   "cell_type": "code",
   "execution_count": null,
   "metadata": {},
   "outputs": [],
   "source": [
    "f = csv.writer(open('krishaAstana.csv', 'w'))\n",
    "f.writerow(['District','Rooms','Size','Floor',\"Price\"])\n",
    "pages=[]\n",
    "n=0;\n",
    "for i in range(1, 200):\n",
    "    #2000\n",
    "    url = 'https://krisha.kz/prodazha/kvartiry/astana/?page=' + str(i)\n",
    "    pages.append(url)\n",
    "    \n",
    "for item in pages:\n",
    "    request  = requests.get(item)\n",
    "    soup = BeautifulSoup(request.text, 'html.parser')\n",
    "    main = soup.find(class_='a-list a-search-list a-list-with-favs')\n",
    "    \n",
    "    prices = main.find_all(class_ ='a-card__price')\n",
    "    locations = main.find_all(class_ ='a-card__wrapper-subtitle')\n",
    "    roomshot = main.find_all(class_ ='a-card__title tm-click-checked-hot-adv')\n",
    "    rooms = main.find_all(class_ ='a-card__title')\n",
    "    roomsArr=[]\n",
    "    pricesArr=[]\n",
    "    locationsArr=[]\n",
    "    pages=[]\n",
    "    for item in prices:\n",
    "        pricesArr.append(item.text)\n",
    "    for item in locations:\n",
    "        locationsArr.append(item.text)\n",
    "    for item in roomshot:\n",
    "        roomsArr.append(item.text)\n",
    "    for item in rooms:\n",
    "        roomsArr.append(item.text)\n",
    "    \n",
    "        if(len(rooms)==3 and str(location[0][len(location[0])-1])==\"н\" and len(prices)==11):\n",
    "            prices=int(prices[0:2]+prices[3:6]+prices[7:11])\n",
    "            prices=int(prices/387%1000)\n",
    "            if(len(str(prices))==3):\n",
    "                if(prices%10>0 and prices%10<5):\n",
    "                    prices=prices-prices%10+5\n",
    "                elif(prices%10>5 and prices%10<=9):\n",
    "                    prices=prices-prices%10+10\n",
    "                    \n",
    "                if(prices%100>0 and prices%100<50):\n",
    "                    prices=prices-prices%100+50\n",
    "                elif(prices%100>50 and prices%100<=90):\n",
    "                    prices=prices-prices%100+100\n",
    "                f.writerow([location[0].replace (\"р-н\", \"\").replace (\"р - н\", \"\"),int(rooms[0].replace (\"-комнатнаяквартира\", \"\")), int(float(rooms[1].split(\"м\")[0])),int(rooms[2].split(\"/\")[0].replace(\"этаж\",\"\")),])\n",
    "       \n",
    " "
   ]
  },
  {
   "cell_type": "code",
   "execution_count": 66,
   "metadata": {},
   "outputs": [],
   "source": [
    "dfAstana = pd.read_csv('krishaAstana.csv')\n"
   ]
  },
  {
   "cell_type": "code",
   "execution_count": 68,
   "metadata": {},
   "outputs": [
    {
     "data": {
      "text/plain": [
       "(3002, 5)"
      ]
     },
     "execution_count": 68,
     "metadata": {},
     "output_type": "execute_result"
    }
   ],
   "source": [
    "dfAstana.shape"
   ]
  },
  {
   "cell_type": "code",
   "execution_count": 69,
   "metadata": {},
   "outputs": [
    {
     "data": {
      "text/html": [
       "<div>\n",
       "<style scoped>\n",
       "    .dataframe tbody tr th:only-of-type {\n",
       "        vertical-align: middle;\n",
       "    }\n",
       "\n",
       "    .dataframe tbody tr th {\n",
       "        vertical-align: top;\n",
       "    }\n",
       "\n",
       "    .dataframe thead th {\n",
       "        text-align: right;\n",
       "    }\n",
       "</style>\n",
       "<table border=\"1\" class=\"dataframe\">\n",
       "  <thead>\n",
       "    <tr style=\"text-align: right;\">\n",
       "      <th></th>\n",
       "      <th>District</th>\n",
       "      <th>Rooms</th>\n",
       "      <th>Size</th>\n",
       "      <th>Floor</th>\n",
       "      <th>Price</th>\n",
       "    </tr>\n",
       "  </thead>\n",
       "  <tbody>\n",
       "    <tr>\n",
       "      <td>0</td>\n",
       "      <td>Есильский</td>\n",
       "      <td>1-комнатная</td>\n",
       "      <td>40.60</td>\n",
       "      <td>2</td>\n",
       "      <td>31007</td>\n",
       "    </tr>\n",
       "    <tr>\n",
       "      <td>1</td>\n",
       "      <td>Сарыаркинский</td>\n",
       "      <td>1-комнатная</td>\n",
       "      <td>43.20</td>\n",
       "      <td>10</td>\n",
       "      <td>35917</td>\n",
       "    </tr>\n",
       "    <tr>\n",
       "      <td>2</td>\n",
       "      <td>Есильский</td>\n",
       "      <td>3-комнатная</td>\n",
       "      <td>100.00</td>\n",
       "      <td>2</td>\n",
       "      <td>76227</td>\n",
       "    </tr>\n",
       "    <tr>\n",
       "      <td>3</td>\n",
       "      <td>Есильский</td>\n",
       "      <td>1-комнатная</td>\n",
       "      <td>40.60</td>\n",
       "      <td>2</td>\n",
       "      <td>67183</td>\n",
       "    </tr>\n",
       "    <tr>\n",
       "      <td>4</td>\n",
       "      <td>Есильский</td>\n",
       "      <td>3-комнатная</td>\n",
       "      <td>100.00</td>\n",
       "      <td>2</td>\n",
       "      <td>80620</td>\n",
       "    </tr>\n",
       "    <tr>\n",
       "      <td>5</td>\n",
       "      <td>Сарыаркинский</td>\n",
       "      <td>3-комнатная</td>\n",
       "      <td>89.70</td>\n",
       "      <td>1</td>\n",
       "      <td>47803</td>\n",
       "    </tr>\n",
       "    <tr>\n",
       "      <td>6</td>\n",
       "      <td>Есильский</td>\n",
       "      <td>3-комнатная</td>\n",
       "      <td>60.00</td>\n",
       "      <td>5</td>\n",
       "      <td>35658</td>\n",
       "    </tr>\n",
       "    <tr>\n",
       "      <td>7</td>\n",
       "      <td>Есильский</td>\n",
       "      <td>4-комнатная</td>\n",
       "      <td>160.00</td>\n",
       "      <td>2</td>\n",
       "      <td>94315</td>\n",
       "    </tr>\n",
       "    <tr>\n",
       "      <td>8</td>\n",
       "      <td>Сарыаркинский</td>\n",
       "      <td>2-комнатная</td>\n",
       "      <td>61.50</td>\n",
       "      <td>7</td>\n",
       "      <td>66925</td>\n",
       "    </tr>\n",
       "    <tr>\n",
       "      <td>9</td>\n",
       "      <td>Алматинский</td>\n",
       "      <td>1-комнатная</td>\n",
       "      <td>39.10</td>\n",
       "      <td>3</td>\n",
       "      <td>44832</td>\n",
       "    </tr>\n",
       "    <tr>\n",
       "      <td>10</td>\n",
       "      <td>Есильский</td>\n",
       "      <td>2-комнатная</td>\n",
       "      <td>80.00</td>\n",
       "      <td>5</td>\n",
       "      <td>76093</td>\n",
       "    </tr>\n",
       "    <tr>\n",
       "      <td>11</td>\n",
       "      <td>Алматинский</td>\n",
       "      <td>2-комнатная</td>\n",
       "      <td>73.00</td>\n",
       "      <td>19</td>\n",
       "      <td>29715</td>\n",
       "    </tr>\n",
       "    <tr>\n",
       "      <td>12</td>\n",
       "      <td>Есильский</td>\n",
       "      <td>3-комнатная</td>\n",
       "      <td>98.16</td>\n",
       "      <td>7</td>\n",
       "      <td>36569</td>\n",
       "    </tr>\n",
       "    <tr>\n",
       "      <td>13</td>\n",
       "      <td>Есильский</td>\n",
       "      <td>1-комнатная</td>\n",
       "      <td>41.60</td>\n",
       "      <td>9</td>\n",
       "      <td>90542</td>\n",
       "    </tr>\n",
       "    <tr>\n",
       "      <td>14</td>\n",
       "      <td>Есильский</td>\n",
       "      <td>3-комнатная</td>\n",
       "      <td>110.00</td>\n",
       "      <td>2</td>\n",
       "      <td>50356</td>\n",
       "    </tr>\n",
       "    <tr>\n",
       "      <td>15</td>\n",
       "      <td>Алматинский</td>\n",
       "      <td>1-комнатная</td>\n",
       "      <td>39.00</td>\n",
       "      <td>6</td>\n",
       "      <td>32558</td>\n",
       "    </tr>\n",
       "    <tr>\n",
       "      <td>16</td>\n",
       "      <td>Алматинский</td>\n",
       "      <td>3-комнатная</td>\n",
       "      <td>96.00</td>\n",
       "      <td>6</td>\n",
       "      <td>35674</td>\n",
       "    </tr>\n",
       "    <tr>\n",
       "      <td>17</td>\n",
       "      <td>Сарыаркинский</td>\n",
       "      <td>3-комнатная</td>\n",
       "      <td>106.00</td>\n",
       "      <td>4</td>\n",
       "      <td>56072</td>\n",
       "    </tr>\n",
       "    <tr>\n",
       "      <td>18</td>\n",
       "      <td>Есильский</td>\n",
       "      <td>2-комнатная</td>\n",
       "      <td>70.00</td>\n",
       "      <td>5</td>\n",
       "      <td>34883</td>\n",
       "    </tr>\n",
       "    <tr>\n",
       "      <td>19</td>\n",
       "      <td>Алматинский</td>\n",
       "      <td>5-комнатная</td>\n",
       "      <td>184.00</td>\n",
       "      <td>9</td>\n",
       "      <td>42635</td>\n",
       "    </tr>\n",
       "  </tbody>\n",
       "</table>\n",
       "</div>"
      ],
      "text/plain": [
       "         District        Rooms    Size Floor  Price\n",
       "0       Есильский  1-комнатная   40.60     2  31007\n",
       "1   Сарыаркинский  1-комнатная   43.20    10  35917\n",
       "2       Есильский  3-комнатная  100.00     2  76227\n",
       "3       Есильский  1-комнатная   40.60     2  67183\n",
       "4       Есильский  3-комнатная  100.00     2  80620\n",
       "5   Сарыаркинский  3-комнатная   89.70     1  47803\n",
       "6       Есильский  3-комнатная   60.00     5  35658\n",
       "7       Есильский  4-комнатная  160.00     2  94315\n",
       "8   Сарыаркинский  2-комнатная   61.50     7  66925\n",
       "9     Алматинский  1-комнатная   39.10     3  44832\n",
       "10      Есильский  2-комнатная   80.00     5  76093\n",
       "11    Алматинский  2-комнатная   73.00    19  29715\n",
       "12      Есильский  3-комнатная   98.16     7  36569\n",
       "13      Есильский  1-комнатная   41.60     9  90542\n",
       "14      Есильский  3-комнатная  110.00     2  50356\n",
       "15    Алматинский  1-комнатная   39.00     6  32558\n",
       "16    Алматинский  3-комнатная   96.00     6  35674\n",
       "17  Сарыаркинский  3-комнатная  106.00     4  56072\n",
       "18      Есильский  2-комнатная   70.00     5  34883\n",
       "19    Алматинский  5-комнатная  184.00     9  42635"
      ]
     },
     "execution_count": 69,
     "metadata": {},
     "output_type": "execute_result"
    }
   ],
   "source": [
    "dfAstana.head(20)"
   ]
  },
  {
   "cell_type": "code",
   "execution_count": 70,
   "metadata": {},
   "outputs": [],
   "source": [
    "avg_prices=[]\n",
    "avg_prices.append(dfAstana[(dfAstana['Rooms'] == \"1-комнатная\")]['Price'].mean()),\\\n",
    "avg_prices.append(dfAstana[(dfAstana['Rooms'] == \"2-комнатная\")]['Price'].mean()),\\\n",
    "avg_prices.append(dfAstana[(dfAstana['Rooms'] == \"3-комнатная\")]['Price'].mean()),\\\n",
    "avg_prices.append(dfAstana[(dfAstana['Rooms'] == \"4-комнатная\")]['Price'].mean())\n",
    "name_of_rooms=[\"1-комнатная\",\"2-комнатная\",\"3-комнатная\",\"4-комнатная\"]"
   ]
  },
  {
   "cell_type": "code",
   "execution_count": 71,
   "metadata": {},
   "outputs": [
    {
     "data": {
      "text/html": [
       "<div>\n",
       "<style scoped>\n",
       "    .dataframe tbody tr th:only-of-type {\n",
       "        vertical-align: middle;\n",
       "    }\n",
       "\n",
       "    .dataframe tbody tr th {\n",
       "        vertical-align: top;\n",
       "    }\n",
       "\n",
       "    .dataframe thead th {\n",
       "        text-align: right;\n",
       "    }\n",
       "</style>\n",
       "<table border=\"1\" class=\"dataframe\">\n",
       "  <thead>\n",
       "    <tr style=\"text-align: right;\">\n",
       "      <th></th>\n",
       "      <th>Avg_Prices</th>\n",
       "      <th>Rooms</th>\n",
       "    </tr>\n",
       "  </thead>\n",
       "  <tbody>\n",
       "    <tr>\n",
       "      <td>0</td>\n",
       "      <td>43667.686357</td>\n",
       "      <td>1-комнатная</td>\n",
       "    </tr>\n",
       "    <tr>\n",
       "      <td>1</td>\n",
       "      <td>56738.722004</td>\n",
       "      <td>2-комнатная</td>\n",
       "    </tr>\n",
       "    <tr>\n",
       "      <td>2</td>\n",
       "      <td>82123.667738</td>\n",
       "      <td>3-комнатная</td>\n",
       "    </tr>\n",
       "    <tr>\n",
       "      <td>3</td>\n",
       "      <td>127610.016340</td>\n",
       "      <td>4-комнатная</td>\n",
       "    </tr>\n",
       "  </tbody>\n",
       "</table>\n",
       "</div>"
      ],
      "text/plain": [
       "      Avg_Prices        Rooms\n",
       "0   43667.686357  1-комнатная\n",
       "1   56738.722004  2-комнатная\n",
       "2   82123.667738  3-комнатная\n",
       "3  127610.016340  4-комнатная"
      ]
     },
     "execution_count": 71,
     "metadata": {},
     "output_type": "execute_result"
    }
   ],
   "source": [
    "data = {'Avg_Prices':avg_prices, 'Rooms':name_of_rooms}\n",
    "custom_df3 = pd.DataFrame(data)\n",
    "custom_df3.head()"
   ]
  },
  {
   "cell_type": "code",
   "execution_count": null,
   "metadata": {},
   "outputs": [],
   "source": [
    "df = pd.read_csv('krisha.csv')\n"
   ]
  },
  {
   "cell_type": "code",
   "execution_count": null,
   "metadata": {},
   "outputs": [],
   "source": [
    "df.shape\n",
    "\n"
   ]
  },
  {
   "cell_type": "code",
   "execution_count": null,
   "metadata": {},
   "outputs": [],
   "source": [
    "df.head(20)"
   ]
  },
  {
   "cell_type": "code",
   "execution_count": 75,
   "metadata": {},
   "outputs": [
    {
     "data": {
      "text/html": [
       "<div>\n",
       "<style scoped>\n",
       "    .dataframe tbody tr th:only-of-type {\n",
       "        vertical-align: middle;\n",
       "    }\n",
       "\n",
       "    .dataframe tbody tr th {\n",
       "        vertical-align: top;\n",
       "    }\n",
       "\n",
       "    .dataframe thead th {\n",
       "        text-align: right;\n",
       "    }\n",
       "</style>\n",
       "<table border=\"1\" class=\"dataframe\">\n",
       "  <thead>\n",
       "    <tr style=\"text-align: right;\">\n",
       "      <th></th>\n",
       "      <th>Size</th>\n",
       "      <th>Price</th>\n",
       "    </tr>\n",
       "  </thead>\n",
       "  <tbody>\n",
       "    <tr>\n",
       "      <td>count</td>\n",
       "      <td>3549.000000</td>\n",
       "      <td>3549.000000</td>\n",
       "    </tr>\n",
       "    <tr>\n",
       "      <td>mean</td>\n",
       "      <td>71.120400</td>\n",
       "      <td>74593.522964</td>\n",
       "    </tr>\n",
       "    <tr>\n",
       "      <td>std</td>\n",
       "      <td>35.671577</td>\n",
       "      <td>44838.002005</td>\n",
       "    </tr>\n",
       "    <tr>\n",
       "      <td>min</td>\n",
       "      <td>9.000000</td>\n",
       "      <td>25839.000000</td>\n",
       "    </tr>\n",
       "    <tr>\n",
       "      <td>25%</td>\n",
       "      <td>46.000000</td>\n",
       "      <td>42635.000000</td>\n",
       "    </tr>\n",
       "    <tr>\n",
       "      <td>50%</td>\n",
       "      <td>63.000000</td>\n",
       "      <td>60723.000000</td>\n",
       "    </tr>\n",
       "    <tr>\n",
       "      <td>75%</td>\n",
       "      <td>85.000000</td>\n",
       "      <td>90440.000000</td>\n",
       "    </tr>\n",
       "    <tr>\n",
       "      <td>max</td>\n",
       "      <td>435.000000</td>\n",
       "      <td>258139.000000</td>\n",
       "    </tr>\n",
       "  </tbody>\n",
       "</table>\n",
       "</div>"
      ],
      "text/plain": [
       "              Size          Price\n",
       "count  3549.000000    3549.000000\n",
       "mean     71.120400   74593.522964\n",
       "std      35.671577   44838.002005\n",
       "min       9.000000   25839.000000\n",
       "25%      46.000000   42635.000000\n",
       "50%      63.000000   60723.000000\n",
       "75%      85.000000   90440.000000\n",
       "max     435.000000  258139.000000"
      ]
     },
     "execution_count": 75,
     "metadata": {},
     "output_type": "execute_result"
    }
   ],
   "source": [
    "\n",
    "df.describe()\n"
   ]
  },
  {
   "cell_type": "code",
   "execution_count": 76,
   "metadata": {},
   "outputs": [],
   "source": [
    "avg_prices=[]\n",
    "avg_prices.append(df[(df['District'] == \"Ауэзовский\")&(df[\"Rooms\"]==\"1-комнатная\")&(df[\"Size\"]<45)]['Price'].mean()),\\\n",
    "avg_prices.append(df[(df['District'] == \"Ауэзовский\")&(df[\"Rooms\"]==\"2-комнатная\")&(df[\"Size\"]>45)&(df[\"Size\"]<75)]['Price'].mean()),\\\n",
    "avg_prices.append(df[(df['District'] == \"Ауэзовский\")&(df[\"Rooms\"]==\"3-комнатная\")&(df[\"Size\"]>75)&(df[\"Size\"]<120)]['Price'].mean())\n",
    "avg_prices.append(df[(df['District'] == \"Медеуский\")&(df[\"Rooms\"]==\"1-комнатная\")&(df[\"Size\"]<45)]['Price'].mean()),\\\n",
    "avg_prices.append(df[(df['District'] == \"Медеуский\")&(df[\"Rooms\"]==\"2-комнатная\")&(df[\"Size\"]>45)&(df[\"Size\"]<75)]['Price'].mean()),\\\n",
    "avg_prices.append(df[(df['District'] == \"Медеуский\")&(df[\"Rooms\"]==\"3-комнатная\")&(df[\"Size\"]>75)&(df[\"Size\"]<120)]['Price'].mean())\n",
    "avg_prices.append(df[(df['District'] == \"Алмалинский\")&(df[\"Rooms\"]==\"1-комнатная\")&(df[\"Size\"]<45)]['Price'].mean()),\\\n",
    "avg_prices.append(df[(df['District'] == \"Алмалинский\")&(df[\"Rooms\"]==\"2-комнатная\")&(df[\"Size\"]>45)&(df[\"Size\"]<75)]['Price'].mean()),\\\n",
    "avg_prices.append(df[(df['District'] == \"Алмалинский\")&(df[\"Rooms\"]==\"3-комнатная\")&(df[\"Size\"]>75)&(df[\"Size\"]<120)]['Price'].mean())\n",
    "avg_prices.append(df[(df['District'] == \"Бостандыкский\")&(df[\"Rooms\"]==\"1-комнатная\")&(df[\"Size\"]<45)]['Price'].mean()),\\\n",
    "avg_prices.append(df[(df['District'] == \"Бостандыкский\")&(df[\"Rooms\"]==\"2-комнатная\")&(df[\"Size\"]>45)&(df[\"Size\"]<75)]['Price'].mean()),\\\n",
    "avg_prices.append(df[(df['District'] == \"Бостандыкский\")&(df[\"Rooms\"]==\"3-комнатная\")&(df[\"Size\"]>75)&(df[\"Size\"]<120)]['Price'].mean())\n",
    "avg_prices.append(df[(df['District'] == \"Жетысуский\")&(df[\"Rooms\"]==\"1-кaомнатная\")&(df[\"Size\"]<45)]['Price'].mean()),\\\n",
    "avg_prices.append(df[(df['District'] == \"Жетысуский\")&(df[\"Rooms\"]==\"2-комнатная\")&(df[\"Size\"]>45)&(df[\"Size\"]<75)]['Price'].mean()),\\\n",
    "avg_prices.append(df[(df['District'] == \"Жетысуский\")&(df[\"Rooms\"]==\"3-комнатная\")&(df[\"Size\"]>75)&(df[\"Size\"]<120)]['Price'].mean())\n",
    "avg_prices.append(df[(df['District'] == \"Алатауский\")&(df[\"Rooms\"]==\"1-комнатная\")&(df[\"Size\"]<45)]['Price'].mean()),\\\n",
    "avg_prices.append(df[(df['District'] == \"Алатауский\")&(df[\"Rooms\"]==\"2-комнатная\")&(df[\"Size\"]>45)&(df[\"Size\"]<75)]['Price'].mean()),\\\n",
    "avg_prices.append(df[(df['District'] == \"Алатауский\")&(df[\"Rooms\"]==\"3-комнатная\")&(df[\"Size\"]>75)&(df[\"Size\"]<120)]['Price'].mean())\n",
    "avg_prices.append(df[(df['District'] == \"Турксибский\")&(df[\"Rooms\"]==\"1-комнатная\")&(df[\"Size\"]<45)]['Price'].mean()),\\\n",
    "avg_prices.append(df[(df['District'] == \"Турксибский\")&(df[\"Rooms\"]==\"2-комнатная\")&(df[\"Size\"]>45)&(df[\"Size\"]<75)]['Price'].mean()),\\\n",
    "avg_prices.append(df[(df['District'] == \"Турксибский\")&(df[\"Rooms\"]==\"3-комнатная\")&(df[\"Size\"]>75)&(df[\"Size\"]<120)]['Price'].mean())\n",
    "avg_prices.append(df[(df['District'] == \"Наурызбайский\")&(df[\"Rooms\"]==\"1-комнатная\")&(df[\"Size\"]<45)]['Price'].mean()),\\\n",
    "avg_prices.append(df[(df['District'] == \"Наурызбайский\")&(df[\"Rooms\"]==\"2-комнатная\")&(df[\"Size\"]>45)&(df[\"Size\"]<75)]['Price'].mean()),\\\n",
    "avg_prices.append(df[(df['District'] == \"Наурызбайский\")&(df[\"Rooms\"]==\"3-комнатная\")&(df[\"Size\"]>75)&(df[\"Size\"]<120)]['Price'].mean())\n",
    "name_of_avg_prices=[\"Ауэзовский(1)\",\"Ауэзовский(2)\",\"Ауэзовский(3)\",\"Медеуский(1)\",\"Медеуский(2)\",\"Медеуский(3)\",\"Алмалинский(1)\",\"Алмалинский(2)\",\"Алмалинский(3)\",\"Бостандыкский(1)\",\"Бостандыкский(2)\",\"Бостандыкский(3)\",\"Жетысуский(1)\",\"Жетысуский(2)\",\"Жетысуский(3)\",\"Алатауский(1)\",\"Алатауский(2)\",\"Алатауский(3)\",\"Турксибский(1)\",\"Турксибский(2)\",\"Турксибский(3)\",\"Наурызбайский(1)\",\"Наурызбайский(2)\",\"Наурызбайский(3)\"]"
   ]
  },
  {
   "cell_type": "code",
   "execution_count": 77,
   "metadata": {},
   "outputs": [
    {
     "data": {
      "text/html": [
       "<div>\n",
       "<style scoped>\n",
       "    .dataframe tbody tr th:only-of-type {\n",
       "        vertical-align: middle;\n",
       "    }\n",
       "\n",
       "    .dataframe tbody tr th {\n",
       "        vertical-align: top;\n",
       "    }\n",
       "\n",
       "    .dataframe thead th {\n",
       "        text-align: right;\n",
       "    }\n",
       "</style>\n",
       "<table border=\"1\" class=\"dataframe\">\n",
       "  <thead>\n",
       "    <tr style=\"text-align: right;\">\n",
       "      <th></th>\n",
       "      <th>Avg_Prices</th>\n",
       "      <th>District</th>\n",
       "    </tr>\n",
       "  </thead>\n",
       "  <tbody>\n",
       "    <tr>\n",
       "      <td>0</td>\n",
       "      <td>38479.673077</td>\n",
       "      <td>Ауэзовский(1)</td>\n",
       "    </tr>\n",
       "    <tr>\n",
       "      <td>1</td>\n",
       "      <td>54448.282759</td>\n",
       "      <td>Ауэзовский(2)</td>\n",
       "    </tr>\n",
       "    <tr>\n",
       "      <td>2</td>\n",
       "      <td>77705.025974</td>\n",
       "      <td>Ауэзовский(3)</td>\n",
       "    </tr>\n",
       "    <tr>\n",
       "      <td>3</td>\n",
       "      <td>70782.339623</td>\n",
       "      <td>Медеуский(1)</td>\n",
       "    </tr>\n",
       "    <tr>\n",
       "      <td>4</td>\n",
       "      <td>80529.546218</td>\n",
       "      <td>Медеуский(2)</td>\n",
       "    </tr>\n",
       "  </tbody>\n",
       "</table>\n",
       "</div>"
      ],
      "text/plain": [
       "     Avg_Prices       District\n",
       "0  38479.673077  Ауэзовский(1)\n",
       "1  54448.282759  Ауэзовский(2)\n",
       "2  77705.025974  Ауэзовский(3)\n",
       "3  70782.339623   Медеуский(1)\n",
       "4  80529.546218   Медеуский(2)"
      ]
     },
     "execution_count": 77,
     "metadata": {},
     "output_type": "execute_result"
    }
   ],
   "source": [
    "data = {'Avg_Prices':avg_prices, 'District':name_of_avg_prices}\n",
    "custom_df = pd.DataFrame(data)\n",
    "custom_df.head()"
   ]
  },
  {
   "cell_type": "code",
   "execution_count": 78,
   "metadata": {},
   "outputs": [],
   "source": [
    "avg_prices=[]\n",
    "avg_prices.append(df[(df['District'] == \"Ауэзовский\")]['Price'].mean()),\\\n",
    "avg_prices.append(df[(df['District'] == \"Медеуский\")]['Price'].mean()),\\\n",
    "avg_prices.append(df[(df['District'] == \"Алмалинский\")]['Price'].mean()),\\\n",
    "avg_prices.append(df[(df['District'] == \"Бостандыкский\")]['Price'].mean()),\\\n",
    "avg_prices.append(df[(df['District'] == \"Жетысуский\")]['Price'].mean()),\\\n",
    "avg_prices.append(df[(df['District'] == \"Алатауский\")]['Price'].mean()),\\\n",
    "avg_prices.append(df[(df['District'] == \"Турксибский\")]['Price'].mean()),\\\n",
    "avg_prices.append(df[(df['District'] == \"Наурызбайский\")]['Price'].mean())\n",
    "name_of_avg_prices=[\"Ауэзовский\",\"Медеуский\",\"Алмалинский\",\"Бостандыкский\",\"Жетысуский\",\"Алатауский\",\"Турксибский\",\"Наурызбайский\",]"
   ]
  },
  {
   "cell_type": "code",
   "execution_count": 79,
   "metadata": {},
   "outputs": [
    {
     "data": {
      "text/html": [
       "<div>\n",
       "<style scoped>\n",
       "    .dataframe tbody tr th:only-of-type {\n",
       "        vertical-align: middle;\n",
       "    }\n",
       "\n",
       "    .dataframe tbody tr th {\n",
       "        vertical-align: top;\n",
       "    }\n",
       "\n",
       "    .dataframe thead th {\n",
       "        text-align: right;\n",
       "    }\n",
       "</style>\n",
       "<table border=\"1\" class=\"dataframe\">\n",
       "  <thead>\n",
       "    <tr style=\"text-align: right;\">\n",
       "      <th></th>\n",
       "      <th>Avg_Prices</th>\n",
       "      <th>District</th>\n",
       "    </tr>\n",
       "  </thead>\n",
       "  <tbody>\n",
       "    <tr>\n",
       "      <td>0</td>\n",
       "      <td>53873.090287</td>\n",
       "      <td>Ауэзовский</td>\n",
       "    </tr>\n",
       "    <tr>\n",
       "      <td>1</td>\n",
       "      <td>101342.321569</td>\n",
       "      <td>Медеуский</td>\n",
       "    </tr>\n",
       "    <tr>\n",
       "      <td>2</td>\n",
       "      <td>67182.456860</td>\n",
       "      <td>Алмалинский</td>\n",
       "    </tr>\n",
       "    <tr>\n",
       "      <td>3</td>\n",
       "      <td>94029.499076</td>\n",
       "      <td>Бостандыкский</td>\n",
       "    </tr>\n",
       "    <tr>\n",
       "      <td>4</td>\n",
       "      <td>43584.637500</td>\n",
       "      <td>Жетысуский</td>\n",
       "    </tr>\n",
       "  </tbody>\n",
       "</table>\n",
       "</div>"
      ],
      "text/plain": [
       "      Avg_Prices       District\n",
       "0   53873.090287     Ауэзовский\n",
       "1  101342.321569      Медеуский\n",
       "2   67182.456860    Алмалинский\n",
       "3   94029.499076  Бостандыкский\n",
       "4   43584.637500     Жетысуский"
      ]
     },
     "execution_count": 79,
     "metadata": {},
     "output_type": "execute_result"
    }
   ],
   "source": [
    "data = {'Avg_Prices':avg_prices, 'District':name_of_avg_prices}\n",
    "custom_df1 = pd.DataFrame(data)\n",
    "custom_df1.head()"
   ]
  },
  {
   "cell_type": "code",
   "execution_count": 80,
   "metadata": {},
   "outputs": [],
   "source": [
    "avg_prices=[]\n",
    "avg_prices.append(df[(df['Rooms'] == \"1-комнатная\")]['Price'].mean()),\\\n",
    "avg_prices.append(df[(df['Rooms'] == \"2-комнатная\")]['Price'].mean()),\\\n",
    "avg_prices.append(df[(df['Rooms'] == \"3-комнатная\")]['Price'].mean()),\\\n",
    "avg_prices.append(df[(df['Rooms'] == \"4-комнатная\")]['Price'].mean())\n",
    "name_of_rooms=[\"1-комнатная\",\"2-комнатная\",\"3-комнатная\",\"4-комнатная\"]"
   ]
  },
  {
   "cell_type": "code",
   "execution_count": 81,
   "metadata": {},
   "outputs": [
    {
     "data": {
      "text/html": [
       "<div>\n",
       "<style scoped>\n",
       "    .dataframe tbody tr th:only-of-type {\n",
       "        vertical-align: middle;\n",
       "    }\n",
       "\n",
       "    .dataframe tbody tr th {\n",
       "        vertical-align: top;\n",
       "    }\n",
       "\n",
       "    .dataframe thead th {\n",
       "        text-align: right;\n",
       "    }\n",
       "</style>\n",
       "<table border=\"1\" class=\"dataframe\">\n",
       "  <thead>\n",
       "    <tr style=\"text-align: right;\">\n",
       "      <th></th>\n",
       "      <th>Avg_Prices</th>\n",
       "      <th>Rooms</th>\n",
       "    </tr>\n",
       "  </thead>\n",
       "  <tbody>\n",
       "    <tr>\n",
       "      <td>0</td>\n",
       "      <td>48493.037552</td>\n",
       "      <td>1-комнатная</td>\n",
       "    </tr>\n",
       "    <tr>\n",
       "      <td>1</td>\n",
       "      <td>65770.687500</td>\n",
       "      <td>2-комнатная</td>\n",
       "    </tr>\n",
       "    <tr>\n",
       "      <td>2</td>\n",
       "      <td>86659.154553</td>\n",
       "      <td>3-комнатная</td>\n",
       "    </tr>\n",
       "    <tr>\n",
       "      <td>3</td>\n",
       "      <td>114887.111111</td>\n",
       "      <td>4-комнатная</td>\n",
       "    </tr>\n",
       "  </tbody>\n",
       "</table>\n",
       "</div>"
      ],
      "text/plain": [
       "      Avg_Prices        Rooms\n",
       "0   48493.037552  1-комнатная\n",
       "1   65770.687500  2-комнатная\n",
       "2   86659.154553  3-комнатная\n",
       "3  114887.111111  4-комнатная"
      ]
     },
     "execution_count": 81,
     "metadata": {},
     "output_type": "execute_result"
    }
   ],
   "source": [
    "data = {'Avg_Prices':avg_prices, 'Rooms':name_of_rooms}\n",
    "custom_df2 = pd.DataFrame(data)\n",
    "custom_df2.head()"
   ]
  },
  {
   "cell_type": "code",
   "execution_count": 82,
   "metadata": {},
   "outputs": [
    {
     "data": {
      "image/png": "[encoded data removed]",
      "text/plain": [
       "<Figure size 432x288 with 1 Axes>"
      ]
     },
     "metadata": {
      "needs_background": "light"
     },
     "output_type": "display_data"
    }
   ],
   "source": [
    "\n",
    "sns.countplot(df[df['District'].\\\n",
    "                 isin(df['District'].value_counts().head().index)]['District']);\n",
    "\n"
   ]
  },
  {
   "cell_type": "code",
   "execution_count": 83,
   "metadata": {},
   "outputs": [
    {
     "data": {
      "image/png": "[encoded data removed]",
      "text/plain": [
       "<Figure size 432x288 with 1 Axes>"
      ]
     },
     "metadata": {
      "needs_background": "light"
     },
     "output_type": "display_data"
    }
   ],
   "source": [
    "sns.countplot(dfAstana[dfAstana['District'].\\\n",
    "                 isin(dfAstana['District'].value_counts().head().index)]['District']);"
   ]
  },
  {
   "cell_type": "code",
   "execution_count": 84,
   "metadata": {},
   "outputs": [
    {
     "data": {
      "image/png": "[encoded data removed]",
      "text/plain": [
       "<Figure size 432x288 with 1 Axes>"
      ]
     },
     "metadata": {
      "needs_background": "light"
     },
     "output_type": "display_data"
    }
   ],
   "source": [
    "sns.violinplot(df['Size']);\n"
   ]
  },
  {
   "cell_type": "code",
   "execution_count": 85,
   "metadata": {},
   "outputs": [
    {
     "data": {
      "image/png": "[encoded data removed]",
      "text/plain": [
       "<Figure size 432x288 with 1 Axes>"
      ]
     },
     "metadata": {
      "needs_background": "light"
     },
     "output_type": "display_data"
    }
   ],
   "source": [
    "sns.violinplot(dfAstana['Size']);"
   ]
  },
  {
   "cell_type": "code",
   "execution_count": 86,
   "metadata": {},
   "outputs": [
    {
     "data": {
      "text/plain": [
       "<matplotlib.axes._subplots.AxesSubplot at 0x7fa89d959320>"
      ]
     },
     "execution_count": 86,
     "metadata": {},
     "output_type": "execute_result"
    },
    {
     "data": {
      "image/png": "[encoded data removed]",
      "text/plain": [
       "<Figure size 576x288 with 1 Axes>"
      ]
     },
     "metadata": {
      "needs_background": "light"
     },
     "output_type": "display_data"
    },
    {
     "data": {
      "image/png": "[encoded data removed]",
      "text/plain": [
       "<Figure size 576x288 with 1 Axes>"
      ]
     },
     "metadata": {
      "needs_background": "light"
     },
     "output_type": "display_data"
    }
   ],
   "source": [
    "custom_df2.plot(x = 'Rooms', y = 'Avg_Prices', figsize=(8,4),kind = 'bar')\n",
    "custom_df3.plot(x = 'Rooms', y = 'Avg_Prices', figsize=(8,4),kind = 'bar')"
   ]
  },
  {
   "cell_type": "code",
   "execution_count": 87,
   "metadata": {},
   "outputs": [
    {
     "data": {
      "text/plain": [
       "<matplotlib.axes._subplots.AxesSubplot at 0x7fa89d96a240>"
      ]
     },
     "execution_count": 87,
     "metadata": {},
     "output_type": "execute_result"
    },
    {
     "data": {
      "image/png": "[encoded data removed]",
      "text/plain": [
       "<Figure size 864x576 with 1 Axes>"
      ]
     },
     "metadata": {
      "needs_background": "light"
     },
     "output_type": "display_data"
    }
   ],
   "source": [
    "\n",
    "custom_df1.plot(x = 'District', y = 'Avg_Prices', figsize=(12,8),kind = 'bar')"
   ]
  },
  {
   "cell_type": "code",
   "execution_count": 88,
   "metadata": {},
   "outputs": [
    {
     "data": {
      "text/plain": [
       "<matplotlib.axes._subplots.AxesSubplot at 0x7fa89d9baeb8>"
      ]
     },
     "execution_count": 88,
     "metadata": {},
     "output_type": "execute_result"
    },
    {
     "data": {
      "image/png": "[encoded data removed]",
      "text/plain": [
       "<Figure size 1440x576 with 1 Axes>"
      ]
     },
     "metadata": {
      "needs_background": "light"
     },
     "output_type": "display_data"
    }
   ],
   "source": [
    "\n",
    "custom_df.plot(x = 'District', y = 'Avg_Prices', figsize=(20,8),kind = 'bar')"
   ]
  }
 ],
 "metadata": {
  "kernelspec": {
   "display_name": "Python 3",
   "language": "python",
   "name": "python3"
  },
  "language_info": {
   "codemirror_mode": {
    "name": "ipython",
    "version": 3
   },
   "file_extension": ".py",
   "mimetype": "text/x-python",
   "name": "python",
   "nbconvert_exporter": "python",
   "pygments_lexer": "ipython3",
   "version": "3.6.8"
  }
 },
 "nbformat": 4,
 "nbformat_minor": 2
}
