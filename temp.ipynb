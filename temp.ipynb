{
 "cells": [
  {
   "cell_type": "code",
   "execution_count": 38,
   "metadata": {},
   "outputs": [],
   "source": [
    "import pandas as pd\n",
    "import numpy as np"
   ]
  },
  {
   "cell_type": "code",
   "execution_count": 39,
   "metadata": {},
   "outputs": [],
   "source": [
    "data = pd.read_csv('merged.csv')"
   ]
  },
  {
   "cell_type": "code",
   "execution_count": 40,
   "metadata": {},
   "outputs": [
    {
     "data": {
      "text/html": [
       "<div>\n",
       "<style scoped>\n",
       "    .dataframe tbody tr th:only-of-type {\n",
       "        vertical-align: middle;\n",
       "    }\n",
       "\n",
       "    .dataframe tbody tr th {\n",
       "        vertical-align: top;\n",
       "    }\n",
       "\n",
       "    .dataframe thead th {\n",
       "        text-align: right;\n",
       "    }\n",
       "</style>\n",
       "<table border=\"1\" class=\"dataframe\">\n",
       "  <thead>\n",
       "    <tr style=\"text-align: right;\">\n",
       "      <th></th>\n",
       "      <th>Unnamed: 0</th>\n",
       "      <th>Column_id</th>\n",
       "      <th>tdate_x</th>\n",
       "      <th>tmane_x</th>\n",
       "      <th>ttext_x</th>\n",
       "      <th>ttype_x</th>\n",
       "    </tr>\n",
       "  </thead>\n",
       "  <tbody>\n",
       "    <tr>\n",
       "      <td>0</td>\n",
       "      <td>0</td>\n",
       "      <td>408906692374446080</td>\n",
       "      <td>1.386326e+09</td>\n",
       "      <td>pleease_shut_up</td>\n",
       "      <td>@first_timee хоть я и школота, но поверь, у на...</td>\n",
       "      <td>1.0</td>\n",
       "    </tr>\n",
       "    <tr>\n",
       "      <td>1</td>\n",
       "      <td>1</td>\n",
       "      <td>408906692693221377</td>\n",
       "      <td>1.386326e+09</td>\n",
       "      <td>alinakirpicheva</td>\n",
       "      <td>Да, все-таки он немного похож на него. Но мой ...</td>\n",
       "      <td>1.0</td>\n",
       "    </tr>\n",
       "    <tr>\n",
       "      <td>2</td>\n",
       "      <td>2</td>\n",
       "      <td>408906695083954177</td>\n",
       "      <td>1.386326e+09</td>\n",
       "      <td>EvgeshaRe</td>\n",
       "      <td>RT @KatiaCheh: Ну ты идиотка) я испугалась за ...</td>\n",
       "      <td>1.0</td>\n",
       "    </tr>\n",
       "    <tr>\n",
       "      <td>3</td>\n",
       "      <td>3</td>\n",
       "      <td>408906695356973056</td>\n",
       "      <td>1.386326e+09</td>\n",
       "      <td>ikonnikova_21</td>\n",
       "      <td>RT @digger2912: \"Кто то в углу сидит и погибае...</td>\n",
       "      <td>1.0</td>\n",
       "    </tr>\n",
       "    <tr>\n",
       "      <td>4</td>\n",
       "      <td>4</td>\n",
       "      <td>408906761416867842</td>\n",
       "      <td>1.386326e+09</td>\n",
       "      <td>JumpyAlex</td>\n",
       "      <td>@irina_dyshkant Вот что значит страшилка :D\\nН...</td>\n",
       "      <td>1.0</td>\n",
       "    </tr>\n",
       "  </tbody>\n",
       "</table>\n",
       "</div>"
      ],
      "text/plain": [
       "   Unnamed: 0           Column_id       tdate_x          tmane_x  \\\n",
       "0           0  408906692374446080  1.386326e+09  pleease_shut_up   \n",
       "1           1  408906692693221377  1.386326e+09  alinakirpicheva   \n",
       "2           2  408906695083954177  1.386326e+09        EvgeshaRe   \n",
       "3           3  408906695356973056  1.386326e+09    ikonnikova_21   \n",
       "4           4  408906761416867842  1.386326e+09        JumpyAlex   \n",
       "\n",
       "                                             ttext_x  ttype_x  \n",
       "0  @first_timee хоть я и школота, но поверь, у на...      1.0  \n",
       "1  Да, все-таки он немного похож на него. Но мой ...      1.0  \n",
       "2  RT @KatiaCheh: Ну ты идиотка) я испугалась за ...      1.0  \n",
       "3  RT @digger2912: \"Кто то в углу сидит и погибае...      1.0  \n",
       "4  @irina_dyshkant Вот что значит страшилка :D\\nН...      1.0  "
      ]
     },
     "execution_count": 40,
     "metadata": {},
     "output_type": "execute_result"
    }
   ],
   "source": [
    "data.head()"
   ]
  },
  {
   "cell_type": "markdown",
   "metadata": {},
   "source": [
    "# Template of our dataset "
   ]
  },
  {
   "cell_type": "code",
   "execution_count": 41,
   "metadata": {},
   "outputs": [],
   "source": [
    "temp = data.drop(['Column_id','tdate_x','Unnamed: 0'], axis = 1)"
   ]
  },
  {
   "cell_type": "code",
   "execution_count": 42,
   "metadata": {},
   "outputs": [
    {
     "data": {
      "text/html": [
       "<div>\n",
       "<style scoped>\n",
       "    .dataframe tbody tr th:only-of-type {\n",
       "        vertical-align: middle;\n",
       "    }\n",
       "\n",
       "    .dataframe tbody tr th {\n",
       "        vertical-align: top;\n",
       "    }\n",
       "\n",
       "    .dataframe thead th {\n",
       "        text-align: right;\n",
       "    }\n",
       "</style>\n",
       "<table border=\"1\" class=\"dataframe\">\n",
       "  <thead>\n",
       "    <tr style=\"text-align: right;\">\n",
       "      <th></th>\n",
       "      <th>tmane_x</th>\n",
       "      <th>ttext_x</th>\n",
       "      <th>ttype_x</th>\n",
       "    </tr>\n",
       "  </thead>\n",
       "  <tbody>\n",
       "    <tr>\n",
       "      <td>0</td>\n",
       "      <td>pleease_shut_up</td>\n",
       "      <td>@first_timee хоть я и школота, но поверь, у на...</td>\n",
       "      <td>1.0</td>\n",
       "    </tr>\n",
       "    <tr>\n",
       "      <td>1</td>\n",
       "      <td>alinakirpicheva</td>\n",
       "      <td>Да, все-таки он немного похож на него. Но мой ...</td>\n",
       "      <td>1.0</td>\n",
       "    </tr>\n",
       "    <tr>\n",
       "      <td>2</td>\n",
       "      <td>EvgeshaRe</td>\n",
       "      <td>RT @KatiaCheh: Ну ты идиотка) я испугалась за ...</td>\n",
       "      <td>1.0</td>\n",
       "    </tr>\n",
       "    <tr>\n",
       "      <td>3</td>\n",
       "      <td>ikonnikova_21</td>\n",
       "      <td>RT @digger2912: \"Кто то в углу сидит и погибае...</td>\n",
       "      <td>1.0</td>\n",
       "    </tr>\n",
       "    <tr>\n",
       "      <td>4</td>\n",
       "      <td>JumpyAlex</td>\n",
       "      <td>@irina_dyshkant Вот что значит страшилка :D\\nН...</td>\n",
       "      <td>1.0</td>\n",
       "    </tr>\n",
       "  </tbody>\n",
       "</table>\n",
       "</div>"
      ],
      "text/plain": [
       "           tmane_x                                            ttext_x  ttype_x\n",
       "0  pleease_shut_up  @first_timee хоть я и школота, но поверь, у на...      1.0\n",
       "1  alinakirpicheva  Да, все-таки он немного похож на него. Но мой ...      1.0\n",
       "2        EvgeshaRe  RT @KatiaCheh: Ну ты идиотка) я испугалась за ...      1.0\n",
       "3    ikonnikova_21  RT @digger2912: \"Кто то в углу сидит и погибае...      1.0\n",
       "4        JumpyAlex  @irina_dyshkant Вот что значит страшилка :D\\nН...      1.0"
      ]
     },
     "execution_count": 42,
     "metadata": {},
     "output_type": "execute_result"
    }
   ],
   "source": [
    "temp.head()"
   ]
  },
  {
   "cell_type": "code",
   "execution_count": 43,
   "metadata": {},
   "outputs": [
    {
     "data": {
      "text/plain": [
       "(226834,)"
      ]
     },
     "execution_count": 43,
     "metadata": {},
     "output_type": "execute_result"
    }
   ],
   "source": [
    "y = temp['ttype_x']\n",
    "y.shape"
   ]
  },
  {
   "cell_type": "code",
   "execution_count": 44,
   "metadata": {},
   "outputs": [],
   "source": [
    "temp.drop('ttype_x', axis = 1, inplace = True)"
   ]
  },
  {
   "cell_type": "code",
   "execution_count": 45,
   "metadata": {},
   "outputs": [
    {
     "data": {
      "text/plain": [
       "(226834, 2)"
      ]
     },
     "execution_count": 45,
     "metadata": {},
     "output_type": "execute_result"
    }
   ],
   "source": [
    "temp.shape"
   ]
  },
  {
   "cell_type": "code",
   "execution_count": 46,
   "metadata": {},
   "outputs": [],
   "source": [
    "from sklearn.naive_bayes import GaussianNB"
   ]
  },
  {
   "cell_type": "code",
   "execution_count": 47,
   "metadata": {},
   "outputs": [],
   "source": [
    "model = GaussianNB()"
   ]
  },
  {
   "cell_type": "markdown",
   "metadata": {},
   "source": [
    "# Convert our words to vectors"
   ]
  },
  {
   "cell_type": "code",
   "execution_count": 48,
   "metadata": {},
   "outputs": [],
   "source": [
    "from sklearn.feature_extraction.text import CountVectorizer\n",
    "vect = CountVectorizer()"
   ]
  },
  {
   "cell_type": "code",
   "execution_count": 49,
   "metadata": {},
   "outputs": [],
   "source": [
    "messages_bow = vect.fit_transform(temp['ttext_x'])"
   ]
  },
  {
   "cell_type": "markdown",
   "metadata": {},
   "source": [
    "# TF-IDF"
   ]
  },
  {
   "cell_type": "code",
   "execution_count": 50,
   "metadata": {},
   "outputs": [],
   "source": [
    "from sklearn.feature_extraction.text import TfidfTransformer\n",
    "tfidf = TfidfTransformer().fit_transform(messages_bow)"
   ]
  },
  {
   "cell_type": "markdown",
   "metadata": {},
   "source": [
    "# Train model"
   ]
  },
  {
   "cell_type": "code",
   "execution_count": 51,
   "metadata": {},
   "outputs": [],
   "source": [
    "from sklearn.naive_bayes import MultinomialNB\n",
    "model = MultinomialNB().fit(messages_tfidf,y)"
   ]
  },
  {
   "cell_type": "code",
   "execution_count": null,
   "metadata": {},
   "outputs": [],
   "source": []
  },
  {
   "cell_type": "markdown",
   "metadata": {},
   "source": [
    "# Test with parsed news"
   ]
  },
  {
   "cell_type": "code",
   "execution_count": 52,
   "metadata": {},
   "outputs": [],
   "source": [
    "df = pd.read_csv('nur.csv', encoding='utf-8', comment='#', sep = ';')"
   ]
  },
  {
   "cell_type": "code",
   "execution_count": 53,
   "metadata": {},
   "outputs": [],
   "source": [
    "df.drop('Unnamed: 1', axis = 1, inplace = True)"
   ]
  },
  {
   "cell_type": "code",
   "execution_count": 54,
   "metadata": {},
   "outputs": [
    {
     "data": {
      "text/html": [
       "<div>\n",
       "<style scoped>\n",
       "    .dataframe tbody tr th:only-of-type {\n",
       "        vertical-align: middle;\n",
       "    }\n",
       "\n",
       "    .dataframe tbody tr th {\n",
       "        vertical-align: top;\n",
       "    }\n",
       "\n",
       "    .dataframe thead th {\n",
       "        text-align: right;\n",
       "    }\n",
       "</style>\n",
       "<table border=\"1\" class=\"dataframe\">\n",
       "  <thead>\n",
       "    <tr style=\"text-align: right;\">\n",
       "      <th></th>\n",
       "      <th>Column_id</th>\n",
       "    </tr>\n",
       "  </thead>\n",
       "  <tbody>\n",
       "    <tr>\n",
       "      <td>0</td>\n",
       "      <td>Лучше уйти на один день раньше: как Назарбаев ...</td>\n",
       "    </tr>\n",
       "    <tr>\n",
       "      <td>1</td>\n",
       "      <td>Ильясов раскрыл тайну знаменитого \"веселого\" ф...</td>\n",
       "    </tr>\n",
       "    <tr>\n",
       "      <td>2</td>\n",
       "      <td>10 креативных способов справиться с Bottle Cap...</td>\n",
       "    </tr>\n",
       "    <tr>\n",
       "      <td>3</td>\n",
       "      <td>Через 10-20 лет напомнит: Масимов о феноменаль...</td>\n",
       "    </tr>\n",
       "    <tr>\n",
       "      <td>4</td>\n",
       "      <td>«В 5 – подъем, в 6 – рабочий день»: о графике ...</td>\n",
       "    </tr>\n",
       "  </tbody>\n",
       "</table>\n",
       "</div>"
      ],
      "text/plain": [
       "                                           Column_id\n",
       "0  Лучше уйти на один день раньше: как Назарбаев ...\n",
       "1  Ильясов раскрыл тайну знаменитого \"веселого\" ф...\n",
       "2  10 креативных способов справиться с Bottle Cap...\n",
       "3  Через 10-20 лет напомнит: Масимов о феноменаль...\n",
       "4  «В 5 – подъем, в 6 – рабочий день»: о графике ..."
      ]
     },
     "execution_count": 54,
     "metadata": {},
     "output_type": "execute_result"
    }
   ],
   "source": [
    "df.head()"
   ]
  },
  {
   "cell_type": "markdown",
   "metadata": {},
   "source": [
    "# Preparing parsed data"
   ]
  },
  {
   "cell_type": "code",
   "execution_count": 67,
   "metadata": {},
   "outputs": [],
   "source": [
    "new_messages_bow = vect.fit_transform(df['Column_id'])"
   ]
  },
  {
   "cell_type": "code",
   "execution_count": 68,
   "metadata": {},
   "outputs": [
    {
     "name": "stdout",
     "output_type": "stream",
     "text": [
      "  (0, 274402)\t0.3172805825522982\n",
      "  (0, 251632)\t0.3172805825522982\n",
      "  (0, 244940)\t0.2594574684591436\n",
      "  (0, 244312)\t0.3172805825522982\n",
      "  (0, 216000)\t0.3172805825522982\n",
      "  (0, 210436)\t0.3172805825522982\n",
      "  (0, 198935)\t0.28345622913288177\n",
      "  (0, 197876)\t0.2594574684591436\n",
      "  (0, 188924)\t0.3172805825522982\n",
      "  (0, 175234)\t0.3172805825522982\n",
      "  (0, 153976)\t0.28345622913288177\n",
      "  (1, 279938)\t0.2872678781994018\n",
      "  (1, 265910)\t0.42836366936396775\n",
      "  (1, 244512)\t0.42836366936396775\n",
      "  (1, 194714)\t0.42836366936396775\n",
      "  (1, 170140)\t0.42836366936396775\n",
      "  (1, 138389)\t0.42836366936396775\n",
      "  (2, 260798)\t0.4565234048602731\n",
      "  (2, 260748)\t0.4565234048602731\n",
      "  (2, 183040)\t0.4565234048602731\n",
      "  (2, 25667)\t0.4565234048602731\n",
      "  (2, 682)\t0.4078547820721643\n",
      "  (3, 286155)\t0.415293603543511\n",
      "  (3, 217828)\t0.415293603543511\n",
      "  (3, 200216)\t0.415293603543511\n",
      "  :\t:\n",
      "  (26, 237610)\t0.38640278052088406\n",
      "  (26, 207075)\t0.38640278052088406\n",
      "  (26, 202151)\t0.3452095120723516\n",
      "  (26, 199735)\t0.38640278052088406\n",
      "  (26, 194499)\t0.38640278052088406\n",
      "  (26, 124335)\t0.2591282007071174\n",
      "  (27, 245942)\t0.5773502691896257\n",
      "  (27, 241866)\t0.5773502691896257\n",
      "  (27, 161926)\t0.5773502691896257\n",
      "  (28, 237741)\t0.447213595499958\n",
      "  (28, 218253)\t0.447213595499958\n",
      "  (28, 208918)\t0.447213595499958\n",
      "  (28, 208642)\t0.447213595499958\n",
      "  (28, 197984)\t0.447213595499958\n",
      "  (29, 246691)\t0.4664399378418825\n",
      "  (29, 231145)\t0.41671414252349454\n",
      "  (29, 202151)\t0.41671414252349454\n",
      "  (29, 139104)\t0.4664399378418825\n",
      "  (29, 135095)\t0.4664399378418825\n",
      "  (30, 251892)\t0.7071067811865476\n",
      "  (30, 157213)\t0.7071067811865476\n",
      "  (31, 217054)\t0.5\n",
      "  (31, 190555)\t0.5\n",
      "  (31, 169893)\t0.5\n",
      "  (31, 148718)\t0.5\n"
     ]
    }
   ],
   "source": [
    "tfidf5 = TfidfTransformer().fit_transform(bow5)\n",
    "print(tfidf5)"
   ]
  },
  {
   "cell_type": "code",
   "execution_count": null,
   "metadata": {},
   "outputs": [],
   "source": []
  },
  {
   "cell_type": "code",
   "execution_count": 69,
   "metadata": {},
   "outputs": [],
   "source": [
    "df['predicted'] = model.predict(tfidf5)"
   ]
  },
  {
   "cell_type": "code",
   "execution_count": 71,
   "metadata": {},
   "outputs": [],
   "source": [
    "export_csv = df.to_csv (r'export_dataframe.csv', index = None, header=True) #Don't forget to add '.csv' at the end of the path\n"
   ]
  },
  {
   "cell_type": "code",
   "execution_count": null,
   "metadata": {},
   "outputs": [],
   "source": []
  }
 ],
 "metadata": {
  "kernelspec": {
   "display_name": "Python 3",
   "language": "python",
   "name": "python3"
  },
  "language_info": {
   "codemirror_mode": {
    "name": "ipython",
    "version": 3
   },
   "file_extension": ".py",
   "mimetype": "text/x-python",
   "name": "python",
   "nbconvert_exporter": "python",
   "pygments_lexer": "ipython3",
   "version": "3.6.8"
  }
 },
 "nbformat": 4,
 "nbformat_minor": 2
}
